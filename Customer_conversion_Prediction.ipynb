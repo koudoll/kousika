{
  "cells": [
    {
      "cell_type": "markdown",
      "metadata": {
        "id": "view-in-github",
        "colab_type": "text"
      },
      "source": [
        "<a href=\"https://colab.research.google.com/github/koudoll/kousika/blob/main/Customer_conversion_Prediction.ipynb\" target=\"_parent\"><img src=\"https://colab.research.google.com/assets/colab-badge.svg\" alt=\"Open In Colab\"/></a>"
      ]
    },
    {
      "cell_type": "markdown",
      "source": [
        "**Reading the** **Dataset**"
      ],
      "metadata": {
        "id": "9F--AG9aafn6"
      }
    },
    {
      "cell_type": "code",
      "execution_count": 1250,
      "metadata": {
        "id": "R23GbfZjfA7_"
      },
      "outputs": [],
      "source": [
        "import pandas as pd\n",
        "import numpy as np\n",
        "import matplotlib.pyplot as plt\n",
        "import seaborn as sns\n"
      ]
    },
    {
      "cell_type": "code",
      "execution_count": 1251,
      "metadata": {
        "id": "g7TLwaOxmINz"
      },
      "outputs": [],
      "source": [
        "df = pd.read_csv(\"/content/train.csv\")\n"
      ]
    },
    {
      "cell_type": "code",
      "execution_count": 1252,
      "metadata": {
        "colab": {
          "base_uri": "https://localhost:8080/",
          "height": 363
        },
        "id": "lmE7gU5PsDlV",
        "outputId": "a5b961b7-8d00-41fc-ed7a-8ca4c8193689"
      },
      "outputs": [
        {
          "output_type": "execute_result",
          "data": {
            "text/plain": [
              "   age           job   marital education_qual call_type  day  mon  dur  \\\n",
              "0   58    management   married       tertiary   unknown    5  may  261   \n",
              "1   44    technician    single      secondary   unknown    5  may  151   \n",
              "2   33  entrepreneur   married      secondary   unknown    5  may   76   \n",
              "3   47   blue-collar   married        unknown   unknown    5  may   92   \n",
              "4   33       unknown    single        unknown   unknown    5  may  198   \n",
              "5   35    management   married       tertiary   unknown    5  may  139   \n",
              "6   28    management    single       tertiary   unknown    5  may  217   \n",
              "7   42  entrepreneur  divorced       tertiary   unknown    5  may  380   \n",
              "8   58       retired   married        primary   unknown    5  may   50   \n",
              "9   43    technician    single      secondary   unknown    5  may   55   \n",
              "\n",
              "   num_calls prev_outcome   y  \n",
              "0          1      unknown  no  \n",
              "1          1      unknown  no  \n",
              "2          1      unknown  no  \n",
              "3          1      unknown  no  \n",
              "4          1      unknown  no  \n",
              "5          1      unknown  no  \n",
              "6          1      unknown  no  \n",
              "7          1      unknown  no  \n",
              "8          1      unknown  no  \n",
              "9          1      unknown  no  "
            ],
            "text/html": [
              "\n",
              "  <div id=\"df-43b8ea48-9f0e-4f04-82e4-57dc39259e03\">\n",
              "    <div class=\"colab-df-container\">\n",
              "      <div>\n",
              "<style scoped>\n",
              "    .dataframe tbody tr th:only-of-type {\n",
              "        vertical-align: middle;\n",
              "    }\n",
              "\n",
              "    .dataframe tbody tr th {\n",
              "        vertical-align: top;\n",
              "    }\n",
              "\n",
              "    .dataframe thead th {\n",
              "        text-align: right;\n",
              "    }\n",
              "</style>\n",
              "<table border=\"1\" class=\"dataframe\">\n",
              "  <thead>\n",
              "    <tr style=\"text-align: right;\">\n",
              "      <th></th>\n",
              "      <th>age</th>\n",
              "      <th>job</th>\n",
              "      <th>marital</th>\n",
              "      <th>education_qual</th>\n",
              "      <th>call_type</th>\n",
              "      <th>day</th>\n",
              "      <th>mon</th>\n",
              "      <th>dur</th>\n",
              "      <th>num_calls</th>\n",
              "      <th>prev_outcome</th>\n",
              "      <th>y</th>\n",
              "    </tr>\n",
              "  </thead>\n",
              "  <tbody>\n",
              "    <tr>\n",
              "      <th>0</th>\n",
              "      <td>58</td>\n",
              "      <td>management</td>\n",
              "      <td>married</td>\n",
              "      <td>tertiary</td>\n",
              "      <td>unknown</td>\n",
              "      <td>5</td>\n",
              "      <td>may</td>\n",
              "      <td>261</td>\n",
              "      <td>1</td>\n",
              "      <td>unknown</td>\n",
              "      <td>no</td>\n",
              "    </tr>\n",
              "    <tr>\n",
              "      <th>1</th>\n",
              "      <td>44</td>\n",
              "      <td>technician</td>\n",
              "      <td>single</td>\n",
              "      <td>secondary</td>\n",
              "      <td>unknown</td>\n",
              "      <td>5</td>\n",
              "      <td>may</td>\n",
              "      <td>151</td>\n",
              "      <td>1</td>\n",
              "      <td>unknown</td>\n",
              "      <td>no</td>\n",
              "    </tr>\n",
              "    <tr>\n",
              "      <th>2</th>\n",
              "      <td>33</td>\n",
              "      <td>entrepreneur</td>\n",
              "      <td>married</td>\n",
              "      <td>secondary</td>\n",
              "      <td>unknown</td>\n",
              "      <td>5</td>\n",
              "      <td>may</td>\n",
              "      <td>76</td>\n",
              "      <td>1</td>\n",
              "      <td>unknown</td>\n",
              "      <td>no</td>\n",
              "    </tr>\n",
              "    <tr>\n",
              "      <th>3</th>\n",
              "      <td>47</td>\n",
              "      <td>blue-collar</td>\n",
              "      <td>married</td>\n",
              "      <td>unknown</td>\n",
              "      <td>unknown</td>\n",
              "      <td>5</td>\n",
              "      <td>may</td>\n",
              "      <td>92</td>\n",
              "      <td>1</td>\n",
              "      <td>unknown</td>\n",
              "      <td>no</td>\n",
              "    </tr>\n",
              "    <tr>\n",
              "      <th>4</th>\n",
              "      <td>33</td>\n",
              "      <td>unknown</td>\n",
              "      <td>single</td>\n",
              "      <td>unknown</td>\n",
              "      <td>unknown</td>\n",
              "      <td>5</td>\n",
              "      <td>may</td>\n",
              "      <td>198</td>\n",
              "      <td>1</td>\n",
              "      <td>unknown</td>\n",
              "      <td>no</td>\n",
              "    </tr>\n",
              "    <tr>\n",
              "      <th>5</th>\n",
              "      <td>35</td>\n",
              "      <td>management</td>\n",
              "      <td>married</td>\n",
              "      <td>tertiary</td>\n",
              "      <td>unknown</td>\n",
              "      <td>5</td>\n",
              "      <td>may</td>\n",
              "      <td>139</td>\n",
              "      <td>1</td>\n",
              "      <td>unknown</td>\n",
              "      <td>no</td>\n",
              "    </tr>\n",
              "    <tr>\n",
              "      <th>6</th>\n",
              "      <td>28</td>\n",
              "      <td>management</td>\n",
              "      <td>single</td>\n",
              "      <td>tertiary</td>\n",
              "      <td>unknown</td>\n",
              "      <td>5</td>\n",
              "      <td>may</td>\n",
              "      <td>217</td>\n",
              "      <td>1</td>\n",
              "      <td>unknown</td>\n",
              "      <td>no</td>\n",
              "    </tr>\n",
              "    <tr>\n",
              "      <th>7</th>\n",
              "      <td>42</td>\n",
              "      <td>entrepreneur</td>\n",
              "      <td>divorced</td>\n",
              "      <td>tertiary</td>\n",
              "      <td>unknown</td>\n",
              "      <td>5</td>\n",
              "      <td>may</td>\n",
              "      <td>380</td>\n",
              "      <td>1</td>\n",
              "      <td>unknown</td>\n",
              "      <td>no</td>\n",
              "    </tr>\n",
              "    <tr>\n",
              "      <th>8</th>\n",
              "      <td>58</td>\n",
              "      <td>retired</td>\n",
              "      <td>married</td>\n",
              "      <td>primary</td>\n",
              "      <td>unknown</td>\n",
              "      <td>5</td>\n",
              "      <td>may</td>\n",
              "      <td>50</td>\n",
              "      <td>1</td>\n",
              "      <td>unknown</td>\n",
              "      <td>no</td>\n",
              "    </tr>\n",
              "    <tr>\n",
              "      <th>9</th>\n",
              "      <td>43</td>\n",
              "      <td>technician</td>\n",
              "      <td>single</td>\n",
              "      <td>secondary</td>\n",
              "      <td>unknown</td>\n",
              "      <td>5</td>\n",
              "      <td>may</td>\n",
              "      <td>55</td>\n",
              "      <td>1</td>\n",
              "      <td>unknown</td>\n",
              "      <td>no</td>\n",
              "    </tr>\n",
              "  </tbody>\n",
              "</table>\n",
              "</div>\n",
              "      <button class=\"colab-df-convert\" onclick=\"convertToInteractive('df-43b8ea48-9f0e-4f04-82e4-57dc39259e03')\"\n",
              "              title=\"Convert this dataframe to an interactive table.\"\n",
              "              style=\"display:none;\">\n",
              "        \n",
              "  <svg xmlns=\"http://www.w3.org/2000/svg\" height=\"24px\"viewBox=\"0 0 24 24\"\n",
              "       width=\"24px\">\n",
              "    <path d=\"M0 0h24v24H0V0z\" fill=\"none\"/>\n",
              "    <path d=\"M18.56 5.44l.94 2.06.94-2.06 2.06-.94-2.06-.94-.94-2.06-.94 2.06-2.06.94zm-11 1L8.5 8.5l.94-2.06 2.06-.94-2.06-.94L8.5 2.5l-.94 2.06-2.06.94zm10 10l.94 2.06.94-2.06 2.06-.94-2.06-.94-.94-2.06-.94 2.06-2.06.94z\"/><path d=\"M17.41 7.96l-1.37-1.37c-.4-.4-.92-.59-1.43-.59-.52 0-1.04.2-1.43.59L10.3 9.45l-7.72 7.72c-.78.78-.78 2.05 0 2.83L4 21.41c.39.39.9.59 1.41.59.51 0 1.02-.2 1.41-.59l7.78-7.78 2.81-2.81c.8-.78.8-2.07 0-2.86zM5.41 20L4 18.59l7.72-7.72 1.47 1.35L5.41 20z\"/>\n",
              "  </svg>\n",
              "      </button>\n",
              "      \n",
              "  <style>\n",
              "    .colab-df-container {\n",
              "      display:flex;\n",
              "      flex-wrap:wrap;\n",
              "      gap: 12px;\n",
              "    }\n",
              "\n",
              "    .colab-df-convert {\n",
              "      background-color: #E8F0FE;\n",
              "      border: none;\n",
              "      border-radius: 50%;\n",
              "      cursor: pointer;\n",
              "      display: none;\n",
              "      fill: #1967D2;\n",
              "      height: 32px;\n",
              "      padding: 0 0 0 0;\n",
              "      width: 32px;\n",
              "    }\n",
              "\n",
              "    .colab-df-convert:hover {\n",
              "      background-color: #E2EBFA;\n",
              "      box-shadow: 0px 1px 2px rgba(60, 64, 67, 0.3), 0px 1px 3px 1px rgba(60, 64, 67, 0.15);\n",
              "      fill: #174EA6;\n",
              "    }\n",
              "\n",
              "    [theme=dark] .colab-df-convert {\n",
              "      background-color: #3B4455;\n",
              "      fill: #D2E3FC;\n",
              "    }\n",
              "\n",
              "    [theme=dark] .colab-df-convert:hover {\n",
              "      background-color: #434B5C;\n",
              "      box-shadow: 0px 1px 3px 1px rgba(0, 0, 0, 0.15);\n",
              "      filter: drop-shadow(0px 1px 2px rgba(0, 0, 0, 0.3));\n",
              "      fill: #FFFFFF;\n",
              "    }\n",
              "  </style>\n",
              "\n",
              "      <script>\n",
              "        const buttonEl =\n",
              "          document.querySelector('#df-43b8ea48-9f0e-4f04-82e4-57dc39259e03 button.colab-df-convert');\n",
              "        buttonEl.style.display =\n",
              "          google.colab.kernel.accessAllowed ? 'block' : 'none';\n",
              "\n",
              "        async function convertToInteractive(key) {\n",
              "          const element = document.querySelector('#df-43b8ea48-9f0e-4f04-82e4-57dc39259e03');\n",
              "          const dataTable =\n",
              "            await google.colab.kernel.invokeFunction('convertToInteractive',\n",
              "                                                     [key], {});\n",
              "          if (!dataTable) return;\n",
              "\n",
              "          const docLinkHtml = 'Like what you see? Visit the ' +\n",
              "            '<a target=\"_blank\" href=https://colab.research.google.com/notebooks/data_table.ipynb>data table notebook</a>'\n",
              "            + ' to learn more about interactive tables.';\n",
              "          element.innerHTML = '';\n",
              "          dataTable['output_type'] = 'display_data';\n",
              "          await google.colab.output.renderOutput(dataTable, element);\n",
              "          const docLink = document.createElement('div');\n",
              "          docLink.innerHTML = docLinkHtml;\n",
              "          element.appendChild(docLink);\n",
              "        }\n",
              "      </script>\n",
              "    </div>\n",
              "  </div>\n",
              "  "
            ]
          },
          "metadata": {},
          "execution_count": 1252
        }
      ],
      "source": [
        "df.head(10)"
      ]
    },
    {
      "cell_type": "markdown",
      "source": [
        "**Data Cleaning**"
      ],
      "metadata": {
        "id": "MvC2WJHNpV4q"
      }
    },
    {
      "cell_type": "code",
      "execution_count": 1253,
      "metadata": {
        "colab": {
          "base_uri": "https://localhost:8080/"
        },
        "id": "ODh4gJKBsWzA",
        "outputId": "c1752809-aa08-41ec-fa3f-b427139409b4"
      },
      "outputs": [
        {
          "output_type": "execute_result",
          "data": {
            "text/plain": [
              "(45211, 11)"
            ]
          },
          "metadata": {},
          "execution_count": 1253
        }
      ],
      "source": [
        "df.shape"
      ]
    },
    {
      "cell_type": "code",
      "execution_count": 1254,
      "metadata": {
        "colab": {
          "base_uri": "https://localhost:8080/"
        },
        "id": "0ME6HgR_a7Tb",
        "outputId": "170da6fd-bd2a-4b93-caa1-80d55f6f054e"
      },
      "outputs": [
        {
          "output_type": "execute_result",
          "data": {
            "text/plain": [
              "Index(['age', 'job', 'marital', 'education_qual', 'call_type', 'day', 'mon',\n",
              "       'dur', 'num_calls', 'prev_outcome', 'y'],\n",
              "      dtype='object')"
            ]
          },
          "metadata": {},
          "execution_count": 1254
        }
      ],
      "source": [
        "df.columns"
      ]
    },
    {
      "cell_type": "markdown",
      "source": [
        "**Check for unique values**"
      ],
      "metadata": {
        "id": "RI0JlHdcdX6Q"
      }
    },
    {
      "cell_type": "code",
      "execution_count": 1255,
      "metadata": {
        "colab": {
          "base_uri": "https://localhost:8080/"
        },
        "id": "lxG6FhDlbHYm",
        "outputId": "294075c5-3206-4376-da79-ffd256a610b3"
      },
      "outputs": [
        {
          "output_type": "execute_result",
          "data": {
            "text/plain": [
              "array(['tertiary', 'secondary', 'unknown', 'primary'], dtype=object)"
            ]
          },
          "metadata": {},
          "execution_count": 1255
        }
      ],
      "source": [
        "df[\"education_qual\"].unique()"
      ]
    },
    {
      "cell_type": "code",
      "source": [
        "df[\"age\"].unique()"
      ],
      "metadata": {
        "colab": {
          "base_uri": "https://localhost:8080/"
        },
        "id": "InA_VKuHpMyV",
        "outputId": "a10198e6-83a4-4b3c-d3f3-1043a1d50350"
      },
      "execution_count": 1256,
      "outputs": [
        {
          "output_type": "execute_result",
          "data": {
            "text/plain": [
              "array([58, 44, 33, 47, 35, 28, 42, 43, 41, 29, 53, 57, 51, 45, 60, 56, 32,\n",
              "       25, 40, 39, 52, 46, 36, 49, 59, 37, 50, 54, 55, 48, 24, 38, 31, 30,\n",
              "       27, 34, 23, 26, 61, 22, 21, 20, 66, 62, 83, 75, 67, 70, 65, 68, 64,\n",
              "       69, 72, 71, 19, 76, 85, 63, 90, 82, 73, 74, 78, 80, 94, 79, 77, 86,\n",
              "       95, 81, 18, 89, 84, 87, 92, 93, 88])"
            ]
          },
          "metadata": {},
          "execution_count": 1256
        }
      ]
    },
    {
      "cell_type": "code",
      "source": [
        "df[\"job\"].unique()"
      ],
      "metadata": {
        "colab": {
          "base_uri": "https://localhost:8080/"
        },
        "id": "w13VLjE_pkos",
        "outputId": "ea9bc662-1cf4-4f70-856c-e68d3a53c5c6"
      },
      "execution_count": 1257,
      "outputs": [
        {
          "output_type": "execute_result",
          "data": {
            "text/plain": [
              "array(['management', 'technician', 'entrepreneur', 'blue-collar',\n",
              "       'unknown', 'retired', 'admin.', 'services', 'self-employed',\n",
              "       'unemployed', 'housemaid', 'student'], dtype=object)"
            ]
          },
          "metadata": {},
          "execution_count": 1257
        }
      ]
    },
    {
      "cell_type": "code",
      "source": [
        "df[\"marital\"].unique()"
      ],
      "metadata": {
        "colab": {
          "base_uri": "https://localhost:8080/"
        },
        "id": "h_P7x__mpqb_",
        "outputId": "c751fa9a-dfe0-4f84-fb45-ec2356359975"
      },
      "execution_count": 1258,
      "outputs": [
        {
          "output_type": "execute_result",
          "data": {
            "text/plain": [
              "array(['married', 'single', 'divorced'], dtype=object)"
            ]
          },
          "metadata": {},
          "execution_count": 1258
        }
      ]
    },
    {
      "cell_type": "code",
      "source": [
        "df[\"call_type\"].unique()"
      ],
      "metadata": {
        "colab": {
          "base_uri": "https://localhost:8080/"
        },
        "id": "u2GXbv1cp4b7",
        "outputId": "e0dfe512-151d-4022-f840-2402de75ed18"
      },
      "execution_count": 1259,
      "outputs": [
        {
          "output_type": "execute_result",
          "data": {
            "text/plain": [
              "array(['unknown', 'cellular', 'telephone'], dtype=object)"
            ]
          },
          "metadata": {},
          "execution_count": 1259
        }
      ]
    },
    {
      "cell_type": "code",
      "source": [
        "df[\"day\"].unique()"
      ],
      "metadata": {
        "colab": {
          "base_uri": "https://localhost:8080/"
        },
        "id": "3ZKoQCbAp9lp",
        "outputId": "80e9f3b1-2ed5-408c-c519-8a05d8fd8450"
      },
      "execution_count": 1260,
      "outputs": [
        {
          "output_type": "execute_result",
          "data": {
            "text/plain": [
              "array([ 5,  6,  7,  8,  9, 12, 13, 14, 15, 16, 19, 20, 21, 23, 26, 27, 28,\n",
              "       29, 30,  2,  3,  4, 11, 17, 18, 24, 25,  1, 10, 22, 31])"
            ]
          },
          "metadata": {},
          "execution_count": 1260
        }
      ]
    },
    {
      "cell_type": "code",
      "source": [
        "df[\"mon\"].unique()"
      ],
      "metadata": {
        "colab": {
          "base_uri": "https://localhost:8080/"
        },
        "id": "cy1vZfDXqUja",
        "outputId": "d7a0584f-7373-4785-fa79-ad4401f9a53f"
      },
      "execution_count": 1261,
      "outputs": [
        {
          "output_type": "execute_result",
          "data": {
            "text/plain": [
              "array(['may', 'jun', 'jul', 'aug', 'oct', 'nov', 'dec', 'jan', 'feb',\n",
              "       'mar', 'apr', 'sep'], dtype=object)"
            ]
          },
          "metadata": {},
          "execution_count": 1261
        }
      ]
    },
    {
      "cell_type": "code",
      "source": [
        "df[\"dur\"].unique()"
      ],
      "metadata": {
        "colab": {
          "base_uri": "https://localhost:8080/"
        },
        "id": "uq709IwAqbba",
        "outputId": "1512d4b9-e794-4d5f-d92f-588ba278e9d9"
      },
      "execution_count": 1262,
      "outputs": [
        {
          "output_type": "execute_result",
          "data": {
            "text/plain": [
              "array([ 261,  151,   76, ..., 1298, 1246, 1556])"
            ]
          },
          "metadata": {},
          "execution_count": 1262
        }
      ]
    },
    {
      "cell_type": "code",
      "source": [
        "df[\"num_calls\"].unique()"
      ],
      "metadata": {
        "colab": {
          "base_uri": "https://localhost:8080/"
        },
        "id": "KyQYE4f_qgFq",
        "outputId": "4fc7537f-c5af-4116-b6a6-5ad7dad54d11"
      },
      "execution_count": 1263,
      "outputs": [
        {
          "output_type": "execute_result",
          "data": {
            "text/plain": [
              "array([ 1,  2,  3,  5,  4,  6,  7,  8,  9, 10, 11, 12, 13, 19, 14, 24, 16,\n",
              "       32, 18, 22, 15, 17, 25, 21, 43, 51, 63, 41, 26, 28, 55, 50, 38, 23,\n",
              "       20, 29, 31, 37, 30, 46, 27, 58, 33, 35, 34, 36, 39, 44])"
            ]
          },
          "metadata": {},
          "execution_count": 1263
        }
      ]
    },
    {
      "cell_type": "code",
      "execution_count": 1264,
      "metadata": {
        "colab": {
          "base_uri": "https://localhost:8080/"
        },
        "id": "L8IwkRVJbzJu",
        "outputId": "8240274c-30ee-46e5-d4c6-0be8045c6483"
      },
      "outputs": [
        {
          "output_type": "execute_result",
          "data": {
            "text/plain": [
              "array(['unknown', 'failure', 'other', 'success'], dtype=object)"
            ]
          },
          "metadata": {},
          "execution_count": 1264
        }
      ],
      "source": [
        "df[\"prev_outcome\"].unique()"
      ]
    },
    {
      "cell_type": "markdown",
      "source": [
        "**Dropping the duplicates**"
      ],
      "metadata": {
        "id": "93D1b9hgdRQv"
      }
    },
    {
      "cell_type": "code",
      "source": [
        "df = df.drop_duplicates()"
      ],
      "metadata": {
        "id": "SK42DiYAq1NF"
      },
      "execution_count": 1265,
      "outputs": []
    },
    {
      "cell_type": "markdown",
      "source": [
        "\n",
        "\n",
        "*   There are some missing values in the \n",
        "data as \"unknown\" when unknown value is less we consider it as missing values \n",
        "\n",
        "\n",
        "*   Since the unknown values are less in \"job\" and \"education_qual\" we consider them as outliers and impute them with mode()\n",
        "\n",
        "\n",
        "\n",
        "\n",
        "\n",
        "\n",
        "\n"
      ],
      "metadata": {
        "id": "zx8qaBOr5-tk"
      }
    },
    {
      "cell_type": "code",
      "execution_count": 1266,
      "metadata": {
        "colab": {
          "base_uri": "https://localhost:8080/"
        },
        "id": "RfMiQ5eXyaVW",
        "outputId": "ef6e33b3-5a5b-47c4-ac32-2099f4cd4227"
      },
      "outputs": [
        {
          "output_type": "execute_result",
          "data": {
            "text/plain": [
              "no     39916\n",
              "yes     5289\n",
              "Name: y, dtype: int64"
            ]
          },
          "metadata": {},
          "execution_count": 1266
        }
      ],
      "source": [
        "df[\"y\"].value_counts()"
      ]
    },
    {
      "cell_type": "code",
      "execution_count": 1267,
      "metadata": {
        "colab": {
          "base_uri": "https://localhost:8080/"
        },
        "id": "2a0vuVt2v4tl",
        "outputId": "9272944f-5c6c-4d4e-a06c-15351b3f4551"
      },
      "outputs": [
        {
          "output_type": "execute_result",
          "data": {
            "text/plain": [
              "age               0\n",
              "job               0\n",
              "marital           0\n",
              "education_qual    0\n",
              "call_type         0\n",
              "day               0\n",
              "mon               0\n",
              "dur               0\n",
              "num_calls         0\n",
              "prev_outcome      0\n",
              "y                 0\n",
              "dtype: int64"
            ]
          },
          "metadata": {},
          "execution_count": 1267
        }
      ],
      "source": [
        "df.isnull().sum()"
      ]
    },
    {
      "cell_type": "code",
      "execution_count": 1268,
      "metadata": {
        "colab": {
          "base_uri": "https://localhost:8080/"
        },
        "id": "N_ZGwmgN8KP7",
        "outputId": "7a2c0c6e-1f94-4b69-d4b2-683bc1de4849"
      },
      "outputs": [
        {
          "output_type": "execute_result",
          "data": {
            "text/plain": [
              "age                int64\n",
              "job               object\n",
              "marital           object\n",
              "education_qual    object\n",
              "call_type         object\n",
              "day                int64\n",
              "mon               object\n",
              "dur                int64\n",
              "num_calls          int64\n",
              "prev_outcome      object\n",
              "y                 object\n",
              "dtype: object"
            ]
          },
          "metadata": {},
          "execution_count": 1268
        }
      ],
      "source": [
        "df.dtypes"
      ]
    },
    {
      "cell_type": "code",
      "execution_count": 1269,
      "metadata": {
        "colab": {
          "base_uri": "https://localhost:8080/",
          "height": 300
        },
        "id": "ohWCLSOxF_Fd",
        "outputId": "f2eec23b-466f-4b5e-f3fe-429f91a4ab1a"
      },
      "outputs": [
        {
          "output_type": "execute_result",
          "data": {
            "text/plain": [
              "                age          day           dur     num_calls\n",
              "count  45205.000000  45205.00000  45205.000000  45205.000000\n",
              "mean      40.937087     15.80688    258.183055      2.763898\n",
              "std       10.619130      8.32234    257.538504      3.098189\n",
              "min       18.000000      1.00000      0.000000      1.000000\n",
              "25%       33.000000      8.00000    103.000000      1.000000\n",
              "50%       39.000000     16.00000    180.000000      2.000000\n",
              "75%       48.000000     21.00000    319.000000      3.000000\n",
              "max       95.000000     31.00000   4918.000000     63.000000"
            ],
            "text/html": [
              "\n",
              "  <div id=\"df-92e9ba4c-d54a-4f85-9924-509aff7a530f\">\n",
              "    <div class=\"colab-df-container\">\n",
              "      <div>\n",
              "<style scoped>\n",
              "    .dataframe tbody tr th:only-of-type {\n",
              "        vertical-align: middle;\n",
              "    }\n",
              "\n",
              "    .dataframe tbody tr th {\n",
              "        vertical-align: top;\n",
              "    }\n",
              "\n",
              "    .dataframe thead th {\n",
              "        text-align: right;\n",
              "    }\n",
              "</style>\n",
              "<table border=\"1\" class=\"dataframe\">\n",
              "  <thead>\n",
              "    <tr style=\"text-align: right;\">\n",
              "      <th></th>\n",
              "      <th>age</th>\n",
              "      <th>day</th>\n",
              "      <th>dur</th>\n",
              "      <th>num_calls</th>\n",
              "    </tr>\n",
              "  </thead>\n",
              "  <tbody>\n",
              "    <tr>\n",
              "      <th>count</th>\n",
              "      <td>45205.000000</td>\n",
              "      <td>45205.00000</td>\n",
              "      <td>45205.000000</td>\n",
              "      <td>45205.000000</td>\n",
              "    </tr>\n",
              "    <tr>\n",
              "      <th>mean</th>\n",
              "      <td>40.937087</td>\n",
              "      <td>15.80688</td>\n",
              "      <td>258.183055</td>\n",
              "      <td>2.763898</td>\n",
              "    </tr>\n",
              "    <tr>\n",
              "      <th>std</th>\n",
              "      <td>10.619130</td>\n",
              "      <td>8.32234</td>\n",
              "      <td>257.538504</td>\n",
              "      <td>3.098189</td>\n",
              "    </tr>\n",
              "    <tr>\n",
              "      <th>min</th>\n",
              "      <td>18.000000</td>\n",
              "      <td>1.00000</td>\n",
              "      <td>0.000000</td>\n",
              "      <td>1.000000</td>\n",
              "    </tr>\n",
              "    <tr>\n",
              "      <th>25%</th>\n",
              "      <td>33.000000</td>\n",
              "      <td>8.00000</td>\n",
              "      <td>103.000000</td>\n",
              "      <td>1.000000</td>\n",
              "    </tr>\n",
              "    <tr>\n",
              "      <th>50%</th>\n",
              "      <td>39.000000</td>\n",
              "      <td>16.00000</td>\n",
              "      <td>180.000000</td>\n",
              "      <td>2.000000</td>\n",
              "    </tr>\n",
              "    <tr>\n",
              "      <th>75%</th>\n",
              "      <td>48.000000</td>\n",
              "      <td>21.00000</td>\n",
              "      <td>319.000000</td>\n",
              "      <td>3.000000</td>\n",
              "    </tr>\n",
              "    <tr>\n",
              "      <th>max</th>\n",
              "      <td>95.000000</td>\n",
              "      <td>31.00000</td>\n",
              "      <td>4918.000000</td>\n",
              "      <td>63.000000</td>\n",
              "    </tr>\n",
              "  </tbody>\n",
              "</table>\n",
              "</div>\n",
              "      <button class=\"colab-df-convert\" onclick=\"convertToInteractive('df-92e9ba4c-d54a-4f85-9924-509aff7a530f')\"\n",
              "              title=\"Convert this dataframe to an interactive table.\"\n",
              "              style=\"display:none;\">\n",
              "        \n",
              "  <svg xmlns=\"http://www.w3.org/2000/svg\" height=\"24px\"viewBox=\"0 0 24 24\"\n",
              "       width=\"24px\">\n",
              "    <path d=\"M0 0h24v24H0V0z\" fill=\"none\"/>\n",
              "    <path d=\"M18.56 5.44l.94 2.06.94-2.06 2.06-.94-2.06-.94-.94-2.06-.94 2.06-2.06.94zm-11 1L8.5 8.5l.94-2.06 2.06-.94-2.06-.94L8.5 2.5l-.94 2.06-2.06.94zm10 10l.94 2.06.94-2.06 2.06-.94-2.06-.94-.94-2.06-.94 2.06-2.06.94z\"/><path d=\"M17.41 7.96l-1.37-1.37c-.4-.4-.92-.59-1.43-.59-.52 0-1.04.2-1.43.59L10.3 9.45l-7.72 7.72c-.78.78-.78 2.05 0 2.83L4 21.41c.39.39.9.59 1.41.59.51 0 1.02-.2 1.41-.59l7.78-7.78 2.81-2.81c.8-.78.8-2.07 0-2.86zM5.41 20L4 18.59l7.72-7.72 1.47 1.35L5.41 20z\"/>\n",
              "  </svg>\n",
              "      </button>\n",
              "      \n",
              "  <style>\n",
              "    .colab-df-container {\n",
              "      display:flex;\n",
              "      flex-wrap:wrap;\n",
              "      gap: 12px;\n",
              "    }\n",
              "\n",
              "    .colab-df-convert {\n",
              "      background-color: #E8F0FE;\n",
              "      border: none;\n",
              "      border-radius: 50%;\n",
              "      cursor: pointer;\n",
              "      display: none;\n",
              "      fill: #1967D2;\n",
              "      height: 32px;\n",
              "      padding: 0 0 0 0;\n",
              "      width: 32px;\n",
              "    }\n",
              "\n",
              "    .colab-df-convert:hover {\n",
              "      background-color: #E2EBFA;\n",
              "      box-shadow: 0px 1px 2px rgba(60, 64, 67, 0.3), 0px 1px 3px 1px rgba(60, 64, 67, 0.15);\n",
              "      fill: #174EA6;\n",
              "    }\n",
              "\n",
              "    [theme=dark] .colab-df-convert {\n",
              "      background-color: #3B4455;\n",
              "      fill: #D2E3FC;\n",
              "    }\n",
              "\n",
              "    [theme=dark] .colab-df-convert:hover {\n",
              "      background-color: #434B5C;\n",
              "      box-shadow: 0px 1px 3px 1px rgba(0, 0, 0, 0.15);\n",
              "      filter: drop-shadow(0px 1px 2px rgba(0, 0, 0, 0.3));\n",
              "      fill: #FFFFFF;\n",
              "    }\n",
              "  </style>\n",
              "\n",
              "      <script>\n",
              "        const buttonEl =\n",
              "          document.querySelector('#df-92e9ba4c-d54a-4f85-9924-509aff7a530f button.colab-df-convert');\n",
              "        buttonEl.style.display =\n",
              "          google.colab.kernel.accessAllowed ? 'block' : 'none';\n",
              "\n",
              "        async function convertToInteractive(key) {\n",
              "          const element = document.querySelector('#df-92e9ba4c-d54a-4f85-9924-509aff7a530f');\n",
              "          const dataTable =\n",
              "            await google.colab.kernel.invokeFunction('convertToInteractive',\n",
              "                                                     [key], {});\n",
              "          if (!dataTable) return;\n",
              "\n",
              "          const docLinkHtml = 'Like what you see? Visit the ' +\n",
              "            '<a target=\"_blank\" href=https://colab.research.google.com/notebooks/data_table.ipynb>data table notebook</a>'\n",
              "            + ' to learn more about interactive tables.';\n",
              "          element.innerHTML = '';\n",
              "          dataTable['output_type'] = 'display_data';\n",
              "          await google.colab.output.renderOutput(dataTable, element);\n",
              "          const docLink = document.createElement('div');\n",
              "          docLink.innerHTML = docLinkHtml;\n",
              "          element.appendChild(docLink);\n",
              "        }\n",
              "      </script>\n",
              "    </div>\n",
              "  </div>\n",
              "  "
            ]
          },
          "metadata": {},
          "execution_count": 1269
        }
      ],
      "source": [
        "df.describe()"
      ]
    },
    {
      "cell_type": "markdown",
      "source": [
        "**To check for Categorical and Continuous variables**"
      ],
      "metadata": {
        "id": "PvSf9-CifPea"
      }
    },
    {
      "cell_type": "code",
      "execution_count": 1270,
      "metadata": {
        "colab": {
          "base_uri": "https://localhost:8080/",
          "height": 81
        },
        "id": "eKc_5PH6O10A",
        "outputId": "2fe959c4-936c-4716-f4a9-a0a1bfb59edd"
      },
      "outputs": [
        {
          "output_type": "execute_result",
          "data": {
            "text/plain": [
              "   object  int64\n",
              "0       7      4"
            ],
            "text/html": [
              "\n",
              "  <div id=\"df-e4e88423-7286-42b2-a531-934e71d89954\">\n",
              "    <div class=\"colab-df-container\">\n",
              "      <div>\n",
              "<style scoped>\n",
              "    .dataframe tbody tr th:only-of-type {\n",
              "        vertical-align: middle;\n",
              "    }\n",
              "\n",
              "    .dataframe tbody tr th {\n",
              "        vertical-align: top;\n",
              "    }\n",
              "\n",
              "    .dataframe thead th {\n",
              "        text-align: right;\n",
              "    }\n",
              "</style>\n",
              "<table border=\"1\" class=\"dataframe\">\n",
              "  <thead>\n",
              "    <tr style=\"text-align: right;\">\n",
              "      <th></th>\n",
              "      <th>object</th>\n",
              "      <th>int64</th>\n",
              "    </tr>\n",
              "  </thead>\n",
              "  <tbody>\n",
              "    <tr>\n",
              "      <th>0</th>\n",
              "      <td>7</td>\n",
              "      <td>4</td>\n",
              "    </tr>\n",
              "  </tbody>\n",
              "</table>\n",
              "</div>\n",
              "      <button class=\"colab-df-convert\" onclick=\"convertToInteractive('df-e4e88423-7286-42b2-a531-934e71d89954')\"\n",
              "              title=\"Convert this dataframe to an interactive table.\"\n",
              "              style=\"display:none;\">\n",
              "        \n",
              "  <svg xmlns=\"http://www.w3.org/2000/svg\" height=\"24px\"viewBox=\"0 0 24 24\"\n",
              "       width=\"24px\">\n",
              "    <path d=\"M0 0h24v24H0V0z\" fill=\"none\"/>\n",
              "    <path d=\"M18.56 5.44l.94 2.06.94-2.06 2.06-.94-2.06-.94-.94-2.06-.94 2.06-2.06.94zm-11 1L8.5 8.5l.94-2.06 2.06-.94-2.06-.94L8.5 2.5l-.94 2.06-2.06.94zm10 10l.94 2.06.94-2.06 2.06-.94-2.06-.94-.94-2.06-.94 2.06-2.06.94z\"/><path d=\"M17.41 7.96l-1.37-1.37c-.4-.4-.92-.59-1.43-.59-.52 0-1.04.2-1.43.59L10.3 9.45l-7.72 7.72c-.78.78-.78 2.05 0 2.83L4 21.41c.39.39.9.59 1.41.59.51 0 1.02-.2 1.41-.59l7.78-7.78 2.81-2.81c.8-.78.8-2.07 0-2.86zM5.41 20L4 18.59l7.72-7.72 1.47 1.35L5.41 20z\"/>\n",
              "  </svg>\n",
              "      </button>\n",
              "      \n",
              "  <style>\n",
              "    .colab-df-container {\n",
              "      display:flex;\n",
              "      flex-wrap:wrap;\n",
              "      gap: 12px;\n",
              "    }\n",
              "\n",
              "    .colab-df-convert {\n",
              "      background-color: #E8F0FE;\n",
              "      border: none;\n",
              "      border-radius: 50%;\n",
              "      cursor: pointer;\n",
              "      display: none;\n",
              "      fill: #1967D2;\n",
              "      height: 32px;\n",
              "      padding: 0 0 0 0;\n",
              "      width: 32px;\n",
              "    }\n",
              "\n",
              "    .colab-df-convert:hover {\n",
              "      background-color: #E2EBFA;\n",
              "      box-shadow: 0px 1px 2px rgba(60, 64, 67, 0.3), 0px 1px 3px 1px rgba(60, 64, 67, 0.15);\n",
              "      fill: #174EA6;\n",
              "    }\n",
              "\n",
              "    [theme=dark] .colab-df-convert {\n",
              "      background-color: #3B4455;\n",
              "      fill: #D2E3FC;\n",
              "    }\n",
              "\n",
              "    [theme=dark] .colab-df-convert:hover {\n",
              "      background-color: #434B5C;\n",
              "      box-shadow: 0px 1px 3px 1px rgba(0, 0, 0, 0.15);\n",
              "      filter: drop-shadow(0px 1px 2px rgba(0, 0, 0, 0.3));\n",
              "      fill: #FFFFFF;\n",
              "    }\n",
              "  </style>\n",
              "\n",
              "      <script>\n",
              "        const buttonEl =\n",
              "          document.querySelector('#df-e4e88423-7286-42b2-a531-934e71d89954 button.colab-df-convert');\n",
              "        buttonEl.style.display =\n",
              "          google.colab.kernel.accessAllowed ? 'block' : 'none';\n",
              "\n",
              "        async function convertToInteractive(key) {\n",
              "          const element = document.querySelector('#df-e4e88423-7286-42b2-a531-934e71d89954');\n",
              "          const dataTable =\n",
              "            await google.colab.kernel.invokeFunction('convertToInteractive',\n",
              "                                                     [key], {});\n",
              "          if (!dataTable) return;\n",
              "\n",
              "          const docLinkHtml = 'Like what you see? Visit the ' +\n",
              "            '<a target=\"_blank\" href=https://colab.research.google.com/notebooks/data_table.ipynb>data table notebook</a>'\n",
              "            + ' to learn more about interactive tables.';\n",
              "          element.innerHTML = '';\n",
              "          dataTable['output_type'] = 'display_data';\n",
              "          await google.colab.output.renderOutput(dataTable, element);\n",
              "          const docLink = document.createElement('div');\n",
              "          docLink.innerHTML = docLinkHtml;\n",
              "          element.appendChild(docLink);\n",
              "        }\n",
              "      </script>\n",
              "    </div>\n",
              "  </div>\n",
              "  "
            ]
          },
          "metadata": {},
          "execution_count": 1270
        }
      ],
      "source": [
        "pd.DataFrame(df.dtypes.value_counts()).T"
      ]
    },
    {
      "cell_type": "code",
      "execution_count": 1271,
      "metadata": {
        "colab": {
          "base_uri": "https://localhost:8080/"
        },
        "id": "jH3VLHLXPe1k",
        "outputId": "cdb51c86-95dc-44cd-d35f-4027c82bba89"
      },
      "outputs": [
        {
          "output_type": "execute_result",
          "data": {
            "text/plain": [
              "['age', 'day', 'dur', 'num_calls']"
            ]
          },
          "metadata": {},
          "execution_count": 1271
        }
      ],
      "source": [
        "integer_data_cols=[var for var in df.columns if df[var].dtype == 'int64']\n",
        "integer_data_cols"
      ]
    },
    {
      "cell_type": "code",
      "execution_count": 1272,
      "metadata": {
        "colab": {
          "base_uri": "https://localhost:8080/"
        },
        "id": "LkRiw6pIQH1q",
        "outputId": "9d17c3a4-0b75-4698-8cdb-2a9eb3a55bbe"
      },
      "outputs": [
        {
          "output_type": "execute_result",
          "data": {
            "text/plain": [
              "['job', 'marital', 'education_qual', 'call_type', 'mon', 'prev_outcome', 'y']"
            ]
          },
          "metadata": {},
          "execution_count": 1272
        }
      ],
      "source": [
        "object_data_cols=[var for var in df.columns if df[var].dtype == 'object']\n",
        "object_data_cols"
      ]
    },
    {
      "cell_type": "code",
      "execution_count": 1273,
      "metadata": {
        "id": "huncCkq0OvRH"
      },
      "outputs": [],
      "source": [
        "pd.set_option(\"display.max_rows\",None)"
      ]
    },
    {
      "cell_type": "markdown",
      "source": [
        "**Check for missing values**"
      ],
      "metadata": {
        "id": "znxooRyadhVl"
      }
    },
    {
      "cell_type": "code",
      "source": [
        "df.age.values[0]"
      ],
      "metadata": {
        "colab": {
          "base_uri": "https://localhost:8080/"
        },
        "id": "gvwtvSL_SqOB",
        "outputId": "424a4a24-6e1d-4d91-c771-a8060833f08d"
      },
      "execution_count": 1274,
      "outputs": [
        {
          "output_type": "execute_result",
          "data": {
            "text/plain": [
              "58"
            ]
          },
          "metadata": {},
          "execution_count": 1274
        }
      ]
    },
    {
      "cell_type": "code",
      "source": [
        "sum(df.age.isnull())"
      ],
      "metadata": {
        "colab": {
          "base_uri": "https://localhost:8080/"
        },
        "id": "vzXE6qmwStvh",
        "outputId": "9a68725d-6ce7-46dd-e9b0-e1b54d1a70ec"
      },
      "execution_count": 1275,
      "outputs": [
        {
          "output_type": "execute_result",
          "data": {
            "text/plain": [
              "0"
            ]
          },
          "metadata": {},
          "execution_count": 1275
        }
      ]
    },
    {
      "cell_type": "code",
      "execution_count": 1276,
      "metadata": {
        "colab": {
          "base_uri": "https://localhost:8080/"
        },
        "id": "zNL6PtgU1W0Q",
        "outputId": "68aa945e-ee51-4b4f-c97d-88671da4b7cd"
      },
      "outputs": [
        {
          "output_type": "execute_result",
          "data": {
            "text/plain": [
              "32    2084\n",
              "31    1996\n",
              "33    1972\n",
              "34    1929\n",
              "35    1894\n",
              "36    1804\n",
              "30    1757\n",
              "37    1696\n",
              "39    1486\n",
              "38    1466\n",
              "40    1355\n",
              "41    1291\n",
              "42    1242\n",
              "45    1216\n",
              "29    1184\n",
              "46    1175\n",
              "43    1161\n",
              "44    1136\n",
              "47    1088\n",
              "28    1038\n",
              "48     997\n",
              "49     994\n",
              "50     939\n",
              "51     936\n",
              "52     911\n",
              "27     909\n",
              "53     891\n",
              "57     828\n",
              "54     811\n",
              "55     806\n",
              "26     805\n",
              "56     778\n",
              "59     770\n",
              "58     740\n",
              "60     596\n",
              "25     527\n",
              "24     302\n",
              "23     202\n",
              "61     147\n",
              "22     129\n",
              "62      80\n",
              "21      79\n",
              "63      77\n",
              "64      74\n",
              "70      67\n",
              "66      63\n",
              "65      59\n",
              "71      54\n",
              "67      54\n",
              "72      52\n",
              "20      50\n",
              "73      44\n",
              "77      44\n",
              "69      44\n",
              "75      39\n",
              "74      37\n",
              "68      36\n",
              "19      35\n",
              "76      32\n",
              "80      31\n",
              "78      30\n",
              "79      25\n",
              "83      22\n",
              "82      19\n",
              "81      17\n",
              "18      12\n",
              "86       9\n",
              "84       9\n",
              "85       5\n",
              "87       4\n",
              "89       3\n",
              "92       2\n",
              "93       2\n",
              "90       2\n",
              "95       2\n",
              "88       2\n",
              "94       1\n",
              "Name: age, dtype: int64"
            ]
          },
          "metadata": {},
          "execution_count": 1276
        }
      ],
      "source": [
        "df[\"age\"].value_counts()\n"
      ]
    },
    {
      "cell_type": "code",
      "execution_count": 1277,
      "metadata": {
        "id": "5VB0ixLoOvVJ",
        "colab": {
          "base_uri": "https://localhost:8080/",
          "height": 35
        },
        "outputId": "9a258e59-bf5e-49ad-c086-f10eb8aaec5b"
      },
      "outputs": [
        {
          "output_type": "execute_result",
          "data": {
            "text/plain": [
              "'management'"
            ],
            "application/vnd.google.colaboratory.intrinsic+json": {
              "type": "string"
            }
          },
          "metadata": {},
          "execution_count": 1277
        }
      ],
      "source": [
        "df.job.values[0]"
      ]
    },
    {
      "cell_type": "code",
      "source": [
        "df['job'] = df['job'].replace('unknown',df['job'].mode()[0])"
      ],
      "metadata": {
        "id": "JoAPdfIPrtf0"
      },
      "execution_count": 1278,
      "outputs": []
    },
    {
      "cell_type": "code",
      "execution_count": 1279,
      "metadata": {
        "colab": {
          "base_uri": "https://localhost:8080/"
        },
        "id": "33OBi_4h66xz",
        "outputId": "c6cb4da1-b154-4b74-b7e0-89856b4d8864"
      },
      "outputs": [
        {
          "output_type": "execute_result",
          "data": {
            "text/plain": [
              "blue-collar      10018\n",
              "management        9457\n",
              "technician        7596\n",
              "admin.            5170\n",
              "services          4153\n",
              "retired           2264\n",
              "self-employed     1579\n",
              "entrepreneur      1487\n",
              "unemployed        1303\n",
              "housemaid         1240\n",
              "student            938\n",
              "Name: job, dtype: int64"
            ]
          },
          "metadata": {},
          "execution_count": 1279
        }
      ],
      "source": [
        "df[\"job\"].value_counts()"
      ]
    },
    {
      "cell_type": "code",
      "source": [
        "sum(df.job.isnull())"
      ],
      "metadata": {
        "colab": {
          "base_uri": "https://localhost:8080/"
        },
        "id": "LIaqUiR0RyXc",
        "outputId": "9d22db69-9574-48bf-877e-9d9c912639dd"
      },
      "execution_count": 1280,
      "outputs": [
        {
          "output_type": "execute_result",
          "data": {
            "text/plain": [
              "0"
            ]
          },
          "metadata": {},
          "execution_count": 1280
        }
      ]
    },
    {
      "cell_type": "code",
      "source": [
        "df.marital.values[0]"
      ],
      "metadata": {
        "colab": {
          "base_uri": "https://localhost:8080/",
          "height": 35
        },
        "id": "-VLBClIpS-pi",
        "outputId": "56afc53d-d9ba-4204-c956-c673261bff41"
      },
      "execution_count": 1281,
      "outputs": [
        {
          "output_type": "execute_result",
          "data": {
            "text/plain": [
              "'married'"
            ],
            "application/vnd.google.colaboratory.intrinsic+json": {
              "type": "string"
            }
          },
          "metadata": {},
          "execution_count": 1281
        }
      ]
    },
    {
      "cell_type": "code",
      "execution_count": 1282,
      "metadata": {
        "colab": {
          "base_uri": "https://localhost:8080/"
        },
        "id": "Se7DJdY28fD5",
        "outputId": "6a635c75-c044-49dd-d4c0-95bbc1381b56"
      },
      "outputs": [
        {
          "output_type": "execute_result",
          "data": {
            "text/plain": [
              "married     27210\n",
              "single      12788\n",
              "divorced     5207\n",
              "Name: marital, dtype: int64"
            ]
          },
          "metadata": {},
          "execution_count": 1282
        }
      ],
      "source": [
        "df[\"marital\"].value_counts()"
      ]
    },
    {
      "cell_type": "code",
      "source": [
        "df.education_qual.values[0]"
      ],
      "metadata": {
        "colab": {
          "base_uri": "https://localhost:8080/",
          "height": 35
        },
        "id": "cPPhp41bTQpC",
        "outputId": "680f021c-ce46-4410-c1ec-66251baaa182"
      },
      "execution_count": 1283,
      "outputs": [
        {
          "output_type": "execute_result",
          "data": {
            "text/plain": [
              "'tertiary'"
            ],
            "application/vnd.google.colaboratory.intrinsic+json": {
              "type": "string"
            }
          },
          "metadata": {},
          "execution_count": 1283
        }
      ]
    },
    {
      "cell_type": "code",
      "source": [
        "df[\"education_qual\"].value_counts()"
      ],
      "metadata": {
        "colab": {
          "base_uri": "https://localhost:8080/"
        },
        "id": "WqABbraHs4Vr",
        "outputId": "24a52a55-7b7f-4cae-e757-d52d8192af7a"
      },
      "execution_count": 1284,
      "outputs": [
        {
          "output_type": "execute_result",
          "data": {
            "text/plain": [
              "secondary    23199\n",
              "tertiary     13299\n",
              "primary       6850\n",
              "unknown       1857\n",
              "Name: education_qual, dtype: int64"
            ]
          },
          "metadata": {},
          "execution_count": 1284
        }
      ]
    },
    {
      "cell_type": "code",
      "source": [
        "df[\"education_qual\"] = df[\"education_qual\"].replace(\"unknown\",df[\"education_qual\"].mode()[0])"
      ],
      "metadata": {
        "id": "YCAYYc6VtLXQ"
      },
      "execution_count": 1285,
      "outputs": []
    },
    {
      "cell_type": "code",
      "source": [
        "df['education_qual'] = df['education_qual'].fillna(\"secondary\")\n",
        "     "
      ],
      "metadata": {
        "id": "U75CnIpHLVHR"
      },
      "execution_count": 1286,
      "outputs": []
    },
    {
      "cell_type": "code",
      "source": [
        "df[\"education_qual\"].value_counts()"
      ],
      "metadata": {
        "colab": {
          "base_uri": "https://localhost:8080/"
        },
        "id": "2EVpkO3HtkdP",
        "outputId": "e65d0326-7ec1-43df-ca3e-66edac0724d7"
      },
      "execution_count": 1287,
      "outputs": [
        {
          "output_type": "execute_result",
          "data": {
            "text/plain": [
              "secondary    25056\n",
              "tertiary     13299\n",
              "primary       6850\n",
              "Name: education_qual, dtype: int64"
            ]
          },
          "metadata": {},
          "execution_count": 1287
        }
      ]
    },
    {
      "cell_type": "code",
      "execution_count": 1288,
      "metadata": {
        "colab": {
          "base_uri": "https://localhost:8080/"
        },
        "id": "nLzKjbDu8-H7",
        "outputId": "82b514d7-3fd6-4d7a-b48d-2b233144fe84"
      },
      "outputs": [
        {
          "output_type": "execute_result",
          "data": {
            "text/plain": [
              "cellular     29282\n",
              "unknown      13017\n",
              "telephone     2906\n",
              "Name: call_type, dtype: int64"
            ]
          },
          "metadata": {},
          "execution_count": 1288
        }
      ],
      "source": [
        "df[\"call_type\"].value_counts()"
      ]
    },
    {
      "cell_type": "code",
      "source": [
        "df[\"call_type\"].isnull().sum()*100/df.shape[0]"
      ],
      "metadata": {
        "colab": {
          "base_uri": "https://localhost:8080/"
        },
        "id": "rT2el5L1vMsD",
        "outputId": "59fa49c4-19a9-4759-b9e7-62299f39c937"
      },
      "execution_count": 1289,
      "outputs": [
        {
          "output_type": "execute_result",
          "data": {
            "text/plain": [
              "0.0"
            ]
          },
          "metadata": {},
          "execution_count": 1289
        }
      ]
    },
    {
      "cell_type": "code",
      "execution_count": 1290,
      "metadata": {
        "colab": {
          "base_uri": "https://localhost:8080/"
        },
        "id": "bk52RFZn9Iq9",
        "outputId": "461f45a7-b93d-42f8-fb5c-2c1dccb58cf3"
      },
      "outputs": [
        {
          "output_type": "execute_result",
          "data": {
            "text/plain": [
              "20    2752\n",
              "18    2308\n",
              "21    2026\n",
              "17    1939\n",
              "6     1932\n",
              "5     1910\n",
              "14    1848\n",
              "8     1840\n",
              "28    1829\n",
              "7     1817\n",
              "19    1756\n",
              "29    1745\n",
              "15    1703\n",
              "12    1603\n",
              "13    1585\n",
              "30    1566\n",
              "9     1560\n",
              "11    1479\n",
              "4     1445\n",
              "16    1415\n",
              "2     1292\n",
              "27    1121\n",
              "3     1079\n",
              "26    1035\n",
              "23     939\n",
              "22     905\n",
              "25     840\n",
              "31     643\n",
              "10     524\n",
              "24     447\n",
              "1      322\n",
              "Name: day, dtype: int64"
            ]
          },
          "metadata": {},
          "execution_count": 1290
        }
      ],
      "source": [
        "df[\"day\"].value_counts()"
      ]
    },
    {
      "cell_type": "code",
      "execution_count": 1291,
      "metadata": {
        "colab": {
          "base_uri": "https://localhost:8080/"
        },
        "id": "MrFK0DTu9bf-",
        "outputId": "9c06f170-24e5-49ea-c528-6c703e2d6b66"
      },
      "outputs": [
        {
          "output_type": "execute_result",
          "data": {
            "text/plain": [
              "may    13765\n",
              "jul     6894\n",
              "aug     6245\n",
              "jun     5339\n",
              "nov     3970\n",
              "apr     2932\n",
              "feb     2649\n",
              "jan     1403\n",
              "oct      738\n",
              "sep      579\n",
              "mar      477\n",
              "dec      214\n",
              "Name: mon, dtype: int64"
            ]
          },
          "metadata": {},
          "execution_count": 1291
        }
      ],
      "source": [
        "df[\"mon\"].value_counts()"
      ]
    },
    {
      "cell_type": "code",
      "execution_count": 1292,
      "metadata": {
        "colab": {
          "base_uri": "https://localhost:8080/"
        },
        "id": "SgWSHYbE9kW3",
        "outputId": "c0228dc3-e9fa-4670-8656-0d4fe81582fc"
      },
      "outputs": [
        {
          "output_type": "execute_result",
          "data": {
            "text/plain": [
              "124     187\n",
              "90      184\n",
              "89      177\n",
              "104     175\n",
              "122     175\n",
              "114     175\n",
              "136     174\n",
              "139     174\n",
              "112     173\n",
              "121     172\n",
              "88      170\n",
              "119     170\n",
              "91      170\n",
              "103     169\n",
              "123     168\n",
              "92      168\n",
              "97      168\n",
              "113     166\n",
              "81      166\n",
              "85      166\n",
              "111     166\n",
              "73      166\n",
              "108     165\n",
              "125     165\n",
              "106     165\n",
              "82      165\n",
              "80      164\n",
              "101     163\n",
              "126     163\n",
              "87      163\n",
              "71      162\n",
              "98      162\n",
              "150     161\n",
              "72      161\n",
              "110     161\n",
              "102     160\n",
              "135     160\n",
              "76      160\n",
              "166     159\n",
              "100     159\n",
              "157     157\n",
              "151     157\n",
              "158     156\n",
              "109     156\n",
              "95      156\n",
              "93      155\n",
              "67      155\n",
              "96      155\n",
              "77      155\n",
              "78      154\n",
              "128     154\n",
              "127     154\n",
              "144     154\n",
              "140     153\n",
              "134     152\n",
              "99      152\n",
              "143     151\n",
              "133     151\n",
              "105     150\n",
              "117     150\n",
              "74      149\n",
              "148     149\n",
              "94      149\n",
              "159     149\n",
              "147     148\n",
              "129     147\n",
              "130     147\n",
              "65      146\n",
              "138     146\n",
              "156     146\n",
              "75      146\n",
              "160     145\n",
              "83      145\n",
              "68      145\n",
              "131     144\n",
              "107     144\n",
              "155     144\n",
              "86      144\n",
              "63      142\n",
              "115     142\n",
              "153     141\n",
              "132     141\n",
              "154     140\n",
              "145     140\n",
              "70      140\n",
              "84      140\n",
              "168     140\n",
              "164     139\n",
              "152     139\n",
              "185     139\n",
              "118     138\n",
              "161     137\n",
              "149     136\n",
              "120     136\n",
              "116     136\n",
              "79      135\n",
              "172     134\n",
              "175     134\n",
              "69      134\n",
              "163     133\n",
              "178     133\n",
              "64      132\n",
              "58      131\n",
              "165     130\n",
              "59      130\n",
              "173     129\n",
              "171     128\n",
              "141     127\n",
              "61      127\n",
              "167     126\n",
              "174     125\n",
              "146     125\n",
              "176     124\n",
              "181     124\n",
              "137     124\n",
              "193     123\n",
              "56      123\n",
              "180     123\n",
              "142     122\n",
              "66      121\n",
              "200     120\n",
              "169     120\n",
              "179     120\n",
              "57      120\n",
              "198     120\n",
              "187     120\n",
              "188     119\n",
              "226     118\n",
              "55      118\n",
              "201     118\n",
              "162     118\n",
              "184     117\n",
              "51      116\n",
              "211     115\n",
              "197     115\n",
              "189     113\n",
              "170     112\n",
              "50      112\n",
              "177     112\n",
              "210     111\n",
              "182     111\n",
              "192     111\n",
              "207     111\n",
              "203     110\n",
              "62      108\n",
              "206     108\n",
              "217     107\n",
              "60      107\n",
              "54      106\n",
              "199     105\n",
              "204     105\n",
              "53      104\n",
              "219     104\n",
              "214     104\n",
              "183     102\n",
              "215     101\n",
              "222     101\n",
              "191     100\n",
              "202     100\n",
              "52      100\n",
              "208      99\n",
              "239      99\n",
              "195      99\n",
              "212      99\n",
              "190      99\n",
              "48       97\n",
              "194      97\n",
              "11       97\n",
              "221      96\n",
              "43       96\n",
              "220      96\n",
              "49       95\n",
              "240      95\n",
              "44       95\n",
              "216      95\n",
              "209      94\n",
              "227      94\n",
              "18       94\n",
              "236      93\n",
              "245      93\n",
              "196      92\n",
              "205      92\n",
              "225      91\n",
              "232      90\n",
              "36       90\n",
              "231      90\n",
              "213      90\n",
              "268      89\n",
              "247      89\n",
              "41       89\n",
              "244      89\n",
              "224      88\n",
              "255      88\n",
              "16       88\n",
              "230      88\n",
              "13       88\n",
              "229      87\n",
              "22       87\n",
              "251      87\n",
              "238      87\n",
              "42       86\n",
              "243      86\n",
              "250      85\n",
              "15       85\n",
              "8        85\n",
              "246      85\n",
              "186      85\n",
              "241      84\n",
              "46       84\n",
              "14       84\n",
              "218      83\n",
              "248      83\n",
              "20       83\n",
              "45       82\n",
              "253      82\n",
              "17       81\n",
              "47       81\n",
              "228      81\n",
              "233      81\n",
              "252      81\n",
              "12       80\n",
              "223      80\n",
              "249      80\n",
              "29       80\n",
              "24       80\n",
              "21       79\n",
              "237      79\n",
              "257      79\n",
              "25       79\n",
              "262      78\n",
              "37       77\n",
              "23       77\n",
              "272      77\n",
              "260      77\n",
              "9        77\n",
              "267      77\n",
              "254      77\n",
              "265      77\n",
              "259      76\n",
              "256      76\n",
              "39       76\n",
              "10       76\n",
              "258      75\n",
              "7        73\n",
              "34       73\n",
              "261      73\n",
              "266      73\n",
              "40       72\n",
              "234      72\n",
              "273      72\n",
              "282      71\n",
              "27       71\n",
              "283      71\n",
              "297      71\n",
              "301      71\n",
              "19       71\n",
              "270      71\n",
              "305      71\n",
              "263      71\n",
              "26       70\n",
              "235      70\n",
              "281      68\n",
              "280      67\n",
              "271      67\n",
              "293      67\n",
              "285      66\n",
              "242      66\n",
              "264      66\n",
              "35       66\n",
              "306      66\n",
              "290      65\n",
              "277      65\n",
              "295      64\n",
              "30       63\n",
              "276      63\n",
              "326      62\n",
              "288      62\n",
              "294      62\n",
              "323      62\n",
              "38       62\n",
              "298      61\n",
              "318      61\n",
              "269      61\n",
              "278      60\n",
              "296      60\n",
              "275      60\n",
              "291      60\n",
              "317      60\n",
              "309      60\n",
              "322      58\n",
              "274      57\n",
              "324      57\n",
              "345      57\n",
              "33       57\n",
              "287      57\n",
              "314      56\n",
              "31       56\n",
              "339      56\n",
              "333      56\n",
              "289      56\n",
              "300      55\n",
              "286      55\n",
              "28       55\n",
              "342      55\n",
              "32       54\n",
              "304      54\n",
              "299      54\n",
              "329      54\n",
              "284      54\n",
              "319      53\n",
              "316      53\n",
              "311      52\n",
              "340      52\n",
              "360      52\n",
              "332      52\n",
              "279      52\n",
              "313      50\n",
              "361      50\n",
              "292      50\n",
              "328      50\n",
              "327      50\n",
              "335      49\n",
              "302      49\n",
              "344      49\n",
              "358      48\n",
              "352      48\n",
              "312      48\n",
              "350      48\n",
              "347      47\n",
              "362      47\n",
              "341      45\n",
              "364      45\n",
              "6        45\n",
              "343      45\n",
              "359      44\n",
              "315      44\n",
              "399      44\n",
              "320      44\n",
              "353      43\n",
              "308      43\n",
              "379      43\n",
              "303      43\n",
              "346      43\n",
              "325      43\n",
              "354      43\n",
              "363      42\n",
              "371      42\n",
              "377      42\n",
              "394      42\n",
              "321      42\n",
              "400      42\n",
              "336      42\n",
              "331      41\n",
              "369      41\n",
              "445      40\n",
              "390      40\n",
              "337      40\n",
              "348      40\n",
              "386      40\n",
              "307      40\n",
              "392      40\n",
              "310      39\n",
              "406      39\n",
              "388      39\n",
              "370      39\n",
              "330      39\n",
              "404      39\n",
              "420      38\n",
              "393      38\n",
              "378      38\n",
              "366      38\n",
              "349      38\n",
              "334      38\n",
              "374      38\n",
              "376      38\n",
              "396      38\n",
              "355      38\n",
              "389      38\n",
              "401      37\n",
              "357      37\n",
              "383      37\n",
              "384      37\n",
              "408      36\n",
              "351      36\n",
              "427      36\n",
              "338      35\n",
              "412      35\n",
              "5        35\n",
              "446      35\n",
              "385      35\n",
              "365      35\n",
              "422      35\n",
              "375      34\n",
              "409      34\n",
              "411      34\n",
              "381      34\n",
              "387      34\n",
              "432      34\n",
              "407      33\n",
              "395      33\n",
              "380      32\n",
              "431      32\n",
              "367      32\n",
              "382      32\n",
              "449      31\n",
              "391      30\n",
              "414      30\n",
              "397      30\n",
              "425      30\n",
              "372      30\n",
              "368      30\n",
              "485      29\n",
              "464      29\n",
              "373      29\n",
              "405      29\n",
              "415      29\n",
              "460      29\n",
              "356      29\n",
              "504      29\n",
              "442      29\n",
              "428      29\n",
              "465      29\n",
              "419      29\n",
              "429      28\n",
              "479      28\n",
              "472      28\n",
              "417      28\n",
              "398      28\n",
              "455      28\n",
              "475      28\n",
              "462      28\n",
              "418      28\n",
              "467      28\n",
              "413      27\n",
              "437      27\n",
              "471      27\n",
              "410      27\n",
              "456      27\n",
              "426      27\n",
              "421      27\n",
              "452      26\n",
              "470      26\n",
              "433      26\n",
              "483      26\n",
              "543      25\n",
              "416      25\n",
              "520      25\n",
              "423      24\n",
              "439      24\n",
              "604      24\n",
              "435      24\n",
              "466      24\n",
              "515      24\n",
              "531      24\n",
              "438      24\n",
              "489      24\n",
              "430      24\n",
              "473      24\n",
              "528      24\n",
              "498      23\n",
              "436      23\n",
              "500      23\n",
              "554      23\n",
              "532      23\n",
              "402      23\n",
              "454      23\n",
              "493      23\n",
              "574      23\n",
              "536      22\n",
              "509      22\n",
              "453      22\n",
              "541      22\n",
              "459      22\n",
              "523      22\n",
              "463      22\n",
              "443      21\n",
              "451      21\n",
              "444      21\n",
              "491      21\n",
              "517      21\n",
              "461      21\n",
              "447      21\n",
              "480      20\n",
              "503      20\n",
              "448      20\n",
              "518      20\n",
              "544      20\n",
              "492      20\n",
              "514      20\n",
              "530      20\n",
              "482      20\n",
              "490      20\n",
              "474      20\n",
              "477      20\n",
              "611      20\n",
              "457      20\n",
              "441      20\n",
              "501      20\n",
              "494      19\n",
              "513      19\n",
              "424      19\n",
              "487      19\n",
              "524      19\n",
              "579      19\n",
              "502      19\n",
              "508      19\n",
              "507      19\n",
              "562      19\n",
              "476      19\n",
              "559      19\n",
              "633      18\n",
              "551      18\n",
              "526      18\n",
              "510      18\n",
              "495      18\n",
              "618      18\n",
              "458      18\n",
              "434      18\n",
              "565      18\n",
              "486      18\n",
              "506      18\n",
              "403      18\n",
              "450      17\n",
              "542      17\n",
              "534      17\n",
              "638      17\n",
              "529      17\n",
              "563      17\n",
              "553      17\n",
              "481      17\n",
              "535      17\n",
              "576      17\n",
              "511      17\n",
              "577      17\n",
              "676      17\n",
              "585      16\n",
              "478      16\n",
              "605      16\n",
              "537      16\n",
              "570      16\n",
              "567      16\n",
              "588      16\n",
              "521      16\n",
              "488      16\n",
              "546      16\n",
              "625      16\n",
              "632      16\n",
              "590      16\n",
              "623      15\n",
              "622      15\n",
              "522      15\n",
              "606      15\n",
              "645      15\n",
              "558      15\n",
              "700      15\n",
              "609      15\n",
              "641      15\n",
              "744      15\n",
              "608      15\n",
              "578      15\n",
              "484      15\n",
              "566      15\n",
              "4        15\n",
              "561      15\n",
              "564      15\n",
              "607      15\n",
              "519      14\n",
              "549      14\n",
              "630      14\n",
              "624      14\n",
              "527      14\n",
              "469      14\n",
              "612      14\n",
              "661      14\n",
              "580      14\n",
              "603      14\n",
              "569      14\n",
              "651      14\n",
              "525      14\n",
              "589      14\n",
              "582      14\n",
              "512      14\n",
              "597      14\n",
              "591      14\n",
              "440      14\n",
              "548      14\n",
              "468      14\n",
              "593      14\n",
              "690      13\n",
              "667      13\n",
              "652      13\n",
              "686      13\n",
              "636      13\n",
              "788      13\n",
              "552      13\n",
              "699      13\n",
              "650      13\n",
              "505      13\n",
              "722      13\n",
              "644      13\n",
              "619      13\n",
              "714      13\n",
              "599      13\n",
              "728      13\n",
              "499      13\n",
              "692      12\n",
              "556      12\n",
              "560      12\n",
              "539      12\n",
              "643      12\n",
              "629      12\n",
              "696      12\n",
              "550      12\n",
              "600      12\n",
              "547      12\n",
              "583      12\n",
              "545      12\n",
              "654      12\n",
              "730      12\n",
              "497      12\n",
              "587      12\n",
              "568      12\n",
              "712      12\n",
              "496      12\n",
              "637      12\n",
              "709      12\n",
              "595      12\n",
              "586      12\n",
              "808      12\n",
              "674      12\n",
              "691      11\n",
              "614      11\n",
              "673      11\n",
              "665      11\n",
              "533      11\n",
              "662      11\n",
              "620      11\n",
              "516      11\n",
              "698      11\n",
              "705      11\n",
              "653      11\n",
              "538      11\n",
              "657      11\n",
              "601      11\n",
              "615      11\n",
              "716      11\n",
              "659      11\n",
              "635      11\n",
              "787      11\n",
              "617      11\n",
              "584      11\n",
              "835      11\n",
              "761      11\n",
              "572      11\n",
              "882      11\n",
              "592      11\n",
              "634      11\n",
              "540      11\n",
              "706      11\n",
              "668      11\n",
              "720      10\n",
              "984      10\n",
              "678      10\n",
              "703      10\n",
              "642      10\n",
              "738      10\n",
              "695      10\n",
              "680      10\n",
              "649      10\n",
              "764      10\n",
              "664      10\n",
              "626      10\n",
              "895      10\n",
              "596      10\n",
              "658      10\n",
              "666      10\n",
              "718      10\n",
              "639      10\n",
              "693      10\n",
              "610      10\n",
              "616      10\n",
              "640      10\n",
              "557      10\n",
              "754       9\n",
              "775       9\n",
              "648       9\n",
              "725       9\n",
              "613       9\n",
              "627       9\n",
              "729       9\n",
              "829       9\n",
              "628       9\n",
              "800       9\n",
              "679       9\n",
              "844       9\n",
              "594       9\n",
              "663       9\n",
              "733       9\n",
              "834       9\n",
              "781       9\n",
              "747       9\n",
              "767       9\n",
              "757       9\n",
              "768       9\n",
              "746       9\n",
              "742       9\n",
              "671       9\n",
              "717       9\n",
              "575       9\n",
              "763       9\n",
              "796       9\n",
              "771       9\n",
              "660       9\n",
              "935       9\n",
              "631       8\n",
              "602       8\n",
              "837       8\n",
              "772       8\n",
              "952       8\n",
              "740       8\n",
              "682       8\n",
              "924       8\n",
              "687       8\n",
              "581       8\n",
              "670       8\n",
              "750       8\n",
              "766       8\n",
              "702       8\n",
              "655       8\n",
              "968       8\n",
              "656       8\n",
              "697       8\n",
              "704       8\n",
              "736       8\n",
              "774       8\n",
              "555       8\n",
              "1063      8\n",
              "854       8\n",
              "816       8\n",
              "573       8\n",
              "571       8\n",
              "850       8\n",
              "647       8\n",
              "758       8\n",
              "867       8\n",
              "681       8\n",
              "669       8\n",
              "707       8\n",
              "701       8\n",
              "675       8\n",
              "855       7\n",
              "711       7\n",
              "911       7\n",
              "685       7\n",
              "715       7\n",
              "689       7\n",
              "765       7\n",
              "621       7\n",
              "827       7\n",
              "860       7\n",
              "885       7\n",
              "884       7\n",
              "792       7\n",
              "953       7\n",
              "825       7\n",
              "815       7\n",
              "732       7\n",
              "735       7\n",
              "1032      7\n",
              "762       7\n",
              "753       7\n",
              "813       7\n",
              "799       7\n",
              "786       7\n",
              "646       7\n",
              "598       7\n",
              "723       7\n",
              "836       7\n",
              "824       7\n",
              "820       7\n",
              "1121      6\n",
              "908       6\n",
              "958       6\n",
              "790       6\n",
              "780       6\n",
              "812       6\n",
              "1156      6\n",
              "902       6\n",
              "1015      6\n",
              "819       6\n",
              "916       6\n",
              "773       6\n",
              "727       6\n",
              "881       6\n",
              "684       6\n",
              "749       6\n",
              "1130      6\n",
              "833       6\n",
              "713       6\n",
              "901       6\n",
              "851       6\n",
              "873       6\n",
              "1106      6\n",
              "857       6\n",
              "777       6\n",
              "795       6\n",
              "903       6\n",
              "838       6\n",
              "957       6\n",
              "1036      6\n",
              "739       6\n",
              "734       6\n",
              "875       6\n",
              "1007      6\n",
              "847       6\n",
              "897       6\n",
              "878       6\n",
              "694       6\n",
              "755       6\n",
              "672       6\n",
              "871       6\n",
              "759       6\n",
              "814       6\n",
              "862       6\n",
              "973       6\n",
              "778       5\n",
              "756       5\n",
              "1002      5\n",
              "1187      5\n",
              "688       5\n",
              "961       5\n",
              "832       5\n",
              "899       5\n",
              "904       5\n",
              "1181      5\n",
              "801       5\n",
              "942       5\n",
              "748       5\n",
              "1091      5\n",
              "912       5\n",
              "1101      5\n",
              "726       5\n",
              "849       5\n",
              "951       5\n",
              "805       5\n",
              "1017      5\n",
              "956       5\n",
              "906       5\n",
              "821       5\n",
              "779       5\n",
              "861       5\n",
              "888       5\n",
              "1080      5\n",
              "784       5\n",
              "810       5\n",
              "776       5\n",
              "955       5\n",
              "856       5\n",
              "1272      5\n",
              "724       5\n",
              "708       5\n",
              "891       5\n",
              "721       5\n",
              "806       5\n",
              "793       5\n",
              "745       5\n",
              "853       5\n",
              "1034      5\n",
              "893       5\n",
              "922       5\n",
              "1000      5\n",
              "789       5\n",
              "804       5\n",
              "965       5\n",
              "1030      5\n",
              "731       5\n",
              "809       5\n",
              "920       5\n",
              "803       5\n",
              "1165      5\n",
              "898       5\n",
              "869       5\n",
              "737       5\n",
              "874       5\n",
              "769       5\n",
              "865       5\n",
              "1013      5\n",
              "841       5\n",
              "1081      5\n",
              "921       5\n",
              "1064      5\n",
              "798       5\n",
              "770       5\n",
              "918       5\n",
              "783       5\n",
              "925       5\n",
              "1051      5\n",
              "929       5\n",
              "719       5\n",
              "923       5\n",
              "843       5\n",
              "1241      4\n",
              "751       4\n",
              "1135      4\n",
              "1056      4\n",
              "802       4\n",
              "1012      4\n",
              "1092      4\n",
              "1120      4\n",
              "1297      4\n",
              "846       4\n",
              "1422      4\n",
              "1161      4\n",
              "683       4\n",
              "1141      4\n",
              "896       4\n",
              "1242      4\n",
              "741       4\n",
              "1022      4\n",
              "963       4\n",
              "1060      4\n",
              "818       4\n",
              "1138      4\n",
              "1126      4\n",
              "1018      4\n",
              "817       4\n",
              "985       4\n",
              "917       4\n",
              "677       4\n",
              "859       4\n",
              "1009      4\n",
              "1576      4\n",
              "997       4\n",
              "797       4\n",
              "826       4\n",
              "1143      4\n",
              "1166      4\n",
              "752       4\n",
              "710       4\n",
              "894       4\n",
              "1173      4\n",
              "1199      4\n",
              "1259      4\n",
              "1037      4\n",
              "1011      4\n",
              "1019      4\n",
              "886       4\n",
              "1206      4\n",
              "1094      4\n",
              "1182      4\n",
              "937       4\n",
              "3         4\n",
              "930       4\n",
              "858       4\n",
              "1226      4\n",
              "1044      4\n",
              "1205      4\n",
              "945       4\n",
              "870       4\n",
              "1062      4\n",
              "811       4\n",
              "1307      4\n",
              "863       4\n",
              "981       4\n",
              "880       4\n",
              "889       4\n",
              "1134      4\n",
              "794       4\n",
              "944       4\n",
              "919       4\n",
              "1028      4\n",
              "890       4\n",
              "830       4\n",
              "1001      4\n",
              "828       4\n",
              "845       4\n",
              "1148      4\n",
              "1184      3\n",
              "1288      3\n",
              "1579      3\n",
              "939       3\n",
              "1150      3\n",
              "840       3\n",
              "1360      3\n",
              "1139      3\n",
              "1039      3\n",
              "1336      3\n",
              "978       3\n",
              "1164      3\n",
              "1503      3\n",
              "1467      3\n",
              "1127      3\n",
              "1057      3\n",
              "1176      3\n",
              "1042      3\n",
              "910       3\n",
              "1223      3\n",
              "1329      3\n",
              "1448      3\n",
              "913       3\n",
              "1008      3\n",
              "940       3\n",
              "1010      3\n",
              "1151      3\n",
              "823       3\n",
              "996       3\n",
              "1111      3\n",
              "949       3\n",
              "1232      3\n",
              "1038      3\n",
              "1720      3\n",
              "1027      3\n",
              "1074      3\n",
              "743       3\n",
              "1046      3\n",
              "1078      3\n",
              "1058      3\n",
              "1200      3\n",
              "782       3\n",
              "931       3\n",
              "990       3\n",
              "970       3\n",
              "1152      3\n",
              "1290      3\n",
              "1476      3\n",
              "1076      3\n",
              "998       3\n",
              "993       3\n",
              "1093      3\n",
              "986       3\n",
              "876       3\n",
              "1014      3\n",
              "971       3\n",
              "1178      3\n",
              "994       3\n",
              "1090      3\n",
              "915       3\n",
              "988       3\n",
              "877       3\n",
              "1222      3\n",
              "1183      3\n",
              "1084      3\n",
              "1408      3\n",
              "959       3\n",
              "0         3\n",
              "1109      3\n",
              "1363      3\n",
              "1193      3\n",
              "1144      3\n",
              "938       3\n",
              "1210      3\n",
              "1118      3\n",
              "907       3\n",
              "1059      3\n",
              "936       3\n",
              "2         3\n",
              "1207      3\n",
              "1203      3\n",
              "1201      3\n",
              "791       3\n",
              "872       3\n",
              "864       3\n",
              "905       3\n",
              "1410      3\n",
              "1045      3\n",
              "760       3\n",
              "967       3\n",
              "1452      3\n",
              "977       3\n",
              "1133      3\n",
              "1052      3\n",
              "807       3\n",
              "1077      3\n",
              "1025      3\n",
              "1224      3\n",
              "852       3\n",
              "1389      3\n",
              "966       3\n",
              "926       3\n",
              "974       3\n",
              "1392      3\n",
              "1102      3\n",
              "1171      3\n",
              "943       3\n",
              "1212      3\n",
              "1073      3\n",
              "1162      3\n",
              "1040      3\n",
              "868       3\n",
              "1473      2\n",
              "1142      2\n",
              "1153      2\n",
              "1287      2\n",
              "1373      2\n",
              "1806      2\n",
              "1877      2\n",
              "1425      2\n",
              "1424      2\n",
              "1486      2\n",
              "1416      2\n",
              "1237      2\n",
              "962       2\n",
              "1574      2\n",
              "1303      2\n",
              "1721      2\n",
              "1334      2\n",
              "1409      2\n",
              "1003      2\n",
              "1190      2\n",
              "1426      2\n",
              "1339      2\n",
              "785       2\n",
              "1108      2\n",
              "1341      2\n",
              "1         2\n",
              "1087      2\n",
              "1353      2\n",
              "1175      2\n",
              "927       2\n",
              "1516      2\n",
              "2053      2\n",
              "1309      2\n",
              "1321      2\n",
              "1340      2\n",
              "848       2\n",
              "1070      2\n",
              "1598      2\n",
              "1145      2\n",
              "1344      2\n",
              "1735      2\n",
              "1088      2\n",
              "969       2\n",
              "900       2\n",
              "1217      2\n",
              "1529      2\n",
              "1244      2\n",
              "1871      2\n",
              "1364      2\n",
              "1192      2\n",
              "1532      2\n",
              "1026      2\n",
              "1258      2\n",
              "1231      2\n",
              "976       2\n",
              "1265      2\n",
              "1531      2\n",
              "1554      2\n",
              "1462      2\n",
              "1555      2\n",
              "1249      2\n",
              "1096      2\n",
              "1359      2\n",
              "933       2\n",
              "1441      2\n",
              "1086      2\n",
              "928       2\n",
              "1776      2\n",
              "1209      2\n",
              "1031      2\n",
              "946       2\n",
              "2016      2\n",
              "1169      2\n",
              "883       2\n",
              "1204      2\n",
              "914       2\n",
              "866       2\n",
              "1186      2\n",
              "1451      2\n",
              "1745      2\n",
              "1110      2\n",
              "1023      2\n",
              "1311      2\n",
              "1048      2\n",
              "1357      2\n",
              "1423      2\n",
              "1369      2\n",
              "1697      2\n",
              "1855      2\n",
              "1365      2\n",
              "1330      2\n",
              "1277      2\n",
              "1029      2\n",
              "1528      2\n",
              "1540      2\n",
              "1041      2\n",
              "1269      2\n",
              "892       2\n",
              "1276      2\n",
              "1097      2\n",
              "1195      2\n",
              "1082      2\n",
              "1461      2\n",
              "1005      2\n",
              "992       2\n",
              "983       2\n",
              "1208      2\n",
              "1573      2\n",
              "979       2\n",
              "950       2\n",
              "1236      2\n",
              "1268      2\n",
              "1243      2\n",
              "1346      2\n",
              "1238      2\n",
              "1089      2\n",
              "1185      2\n",
              "1248      2\n",
              "948       2\n",
              "1196      2\n",
              "954       2\n",
              "1100      2\n",
              "1098      2\n",
              "1055      2\n",
              "1492      2\n",
              "1386      2\n",
              "982       2\n",
              "1449      2\n",
              "1472      2\n",
              "1020      2\n",
              "1119      2\n",
              "1167      2\n",
              "941       2\n",
              "1434      2\n",
              "1083      2\n",
              "1114      2\n",
              "1388      2\n",
              "1103      2\n",
              "1446      2\n",
              "1560      2\n",
              "1366      2\n",
              "1006      2\n",
              "1068      2\n",
              "1123      2\n",
              "1099      2\n",
              "1075      2\n",
              "831       2\n",
              "1149      2\n",
              "1616      1\n",
              "1067      1\n",
              "1571      1\n",
              "980       1\n",
              "1548      1\n",
              "1283      1\n",
              "1502      1\n",
              "1065      1\n",
              "1914      1\n",
              "1966      1\n",
              "1191      1\n",
              "1957      1\n",
              "1347      1\n",
              "1387      1\n",
              "1970      1\n",
              "3785      1\n",
              "822       1\n",
              "1972      1\n",
              "1122      1\n",
              "1377      1\n",
              "1702      1\n",
              "1284      1\n",
              "1254      1\n",
              "1925      1\n",
              "1158      1\n",
              "1563      1\n",
              "2027      1\n",
              "1435      1\n",
              "1551      1\n",
              "1154      1\n",
              "1710      1\n",
              "1490      1\n",
              "1024      1\n",
              "2389      1\n",
              "1049      1\n",
              "1104      1\n",
              "1514      1\n",
              "1256      1\n",
              "1816      1\n",
              "2055      1\n",
              "1407      1\n",
              "1262      1\n",
              "2150      1\n",
              "975       1\n",
              "1035      1\n",
              "1221      1\n",
              "1792      1\n",
              "879       1\n",
              "2453      1\n",
              "1662      1\n",
              "1391      1\n",
              "1835      1\n",
              "1179      1\n",
              "1468      1\n",
              "2420      1\n",
              "1225      1\n",
              "972       1\n",
              "1117      1\n",
              "1512      1\n",
              "1337      1\n",
              "1962      1\n",
              "1665      1\n",
              "1975      1\n",
              "1180      1\n",
              "1463      1\n",
              "1541      1\n",
              "1047      1\n",
              "1440      1\n",
              "1095      1\n",
              "1160      1\n",
              "1326      1\n",
              "3102      1\n",
              "1658      1\n",
              "1112      1\n",
              "1960      1\n",
              "1661      1\n",
              "1332      1\n",
              "1202      1\n",
              "1370      1\n",
              "2184      1\n",
              "1233      1\n",
              "1823      1\n",
              "1174      1\n",
              "1246      1\n",
              "1971      1\n",
              "934       1\n",
              "1286      1\n",
              "1129      1\n",
              "1691      1\n",
              "1804      1\n",
              "1723      1\n",
              "2129      1\n",
              "1594      1\n",
              "1628      1\n",
              "1372      1\n",
              "1859      1\n",
              "2870      1\n",
              "3076      1\n",
              "1298      1\n",
              "1405      1\n",
              "2330      1\n",
              "1447      1\n",
              "1380      1\n",
              "1707      1\n",
              "1313      1\n",
              "1600      1\n",
              "2062      1\n",
              "1240      1\n",
              "1790      1\n",
              "1361      1\n",
              "1543      1\n",
              "989       1\n",
              "1136      1\n",
              "1079      1\n",
              "3025      1\n",
              "1431      1\n",
              "1550      1\n",
              "1296      1\n",
              "839       1\n",
              "1131      1\n",
              "2187      1\n",
              "2770      1\n",
              "1489      1\n",
              "1917      1\n",
              "1580      1\n",
              "1420      1\n",
              "2256      1\n",
              "1393      1\n",
              "1635      1\n",
              "1837      1\n",
              "1817      1\n",
              "1916      1\n",
              "2775      1\n",
              "2301      1\n",
              "1279      1\n",
              "1213      1\n",
              "1381      1\n",
              "1261      1\n",
              "1333      1\n",
              "1348      1\n",
              "1880      1\n",
              "1294      1\n",
              "1460      1\n",
              "1805      1\n",
              "1404      1\n",
              "2219      1\n",
              "1603      1\n",
              "1469      1\n",
              "1437      1\n",
              "1343      1\n",
              "2653      1\n",
              "1994      1\n",
              "1302      1\n",
              "1865      1\n",
              "1053      1\n",
              "1558      1\n",
              "1519      1\n",
              "2456      1\n",
              "1980      1\n",
              "1500      1\n",
              "2462      1\n",
              "2260      1\n",
              "1611      1\n",
              "932       1\n",
              "2033      1\n",
              "1730      1\n",
              "1168      1\n",
              "3094      1\n",
              "1419      1\n",
              "1234      1\n",
              "1085      1\n",
              "1291      1\n",
              "1978      1\n",
              "1812      1\n",
              "1617      1\n",
              "1663      1\n",
              "1403      1\n",
              "2635      1\n",
              "2028      1\n",
              "1318      1\n",
              "2485      1\n",
              "2093      1\n",
              "1255      1\n",
              "1487      1\n",
              "3881      1\n",
              "2621      1\n",
              "1345      1\n",
              "1778      1\n",
              "2769      1\n",
              "1021      1\n",
              "1395      1\n",
              "1323      1\n",
              "1159      1\n",
              "1137      1\n",
              "1066      1\n",
              "1438      1\n",
              "1349      1\n",
              "1875      1\n",
              "1581      1\n",
              "1125      1\n",
              "1328      1\n",
              "1553      1\n",
              "2177      1\n",
              "1273      1\n",
              "1689      1\n",
              "2231      1\n",
              "3366      1\n",
              "1727      1\n",
              "987       1\n",
              "2087      1\n",
              "1266      1\n",
              "1495      1\n",
              "1147      1\n",
              "1534      1\n",
              "1713      1\n",
              "1170      1\n",
              "1054      1\n",
              "1692      1\n",
              "2241      1\n",
              "1257      1\n",
              "1521      1\n",
              "995       1\n",
              "1681      1\n",
              "999       1\n",
              "1376      1\n",
              "1777      1\n",
              "1882      1\n",
              "1623      1\n",
              "3078      1\n",
              "1218      1\n",
              "1622      1\n",
              "1677      1\n",
              "1245      1\n",
              "1906      1\n",
              "1128      1\n",
              "1597      1\n",
              "1230      1\n",
              "1252      1\n",
              "1263      1\n",
              "1867      1\n",
              "964       1\n",
              "1478      1\n",
              "1666      1\n",
              "3183      1\n",
              "1250      1\n",
              "1282      1\n",
              "1504      1\n",
              "1687      1\n",
              "1306      1\n",
              "1934      1\n",
              "3422      1\n",
              "1834      1\n",
              "1456      1\n",
              "1471      1\n",
              "2191      1\n",
              "2516      1\n",
              "1227      1\n",
              "1113      1\n",
              "1536      1\n",
              "1488      1\n",
              "1739      1\n",
              "1107      1\n",
              "2692      1\n",
              "1567      1\n",
              "1211      1\n",
              "1650      1\n",
              "1613      1\n",
              "1842      1\n",
              "1314      1\n",
              "960       1\n",
              "1132      1\n",
              "1606      1\n",
              "1789      1\n",
              "4918      1\n",
              "1239      1\n",
              "3284      1\n",
              "2429      1\n",
              "3253      1\n",
              "2372      1\n",
              "1642      1\n",
              "1033      1\n",
              "1374      1\n",
              "1809      1\n",
              "1464      1\n",
              "1740      1\n",
              "1293      1\n",
              "1559      1\n",
              "3322      1\n",
              "1140      1\n",
              "1569      1\n",
              "1992      1\n",
              "1397      1\n",
              "1319      1\n",
              "1390      1\n",
              "1584      1\n",
              "1275      1\n",
              "1656      1\n",
              "1432      1\n",
              "1412      1\n",
              "1271      1\n",
              "1669      1\n",
              "1310      1\n",
              "1368      1\n",
              "1649      1\n",
              "1973      1\n",
              "1399      1\n",
              "1499      1\n",
              "2029      1\n",
              "1439      1\n",
              "1061      1\n",
              "1767      1\n",
              "2201      1\n",
              "991       1\n",
              "909       1\n",
              "1105      1\n",
              "1220      1\n",
              "2015      1\n",
              "1946      1\n",
              "1602      1\n",
              "1820      1\n",
              "947       1\n",
              "1869      1\n",
              "1491      1\n",
              "1484      1\n",
              "1417      1\n",
              "1124      1\n",
              "2078      1\n",
              "1327      1\n",
              "1331      1\n",
              "1608      1\n",
              "1508      1\n",
              "1833      1\n",
              "1545      1\n",
              "1352      1\n",
              "1342      1\n",
              "1556      1\n",
              "Name: dur, dtype: int64"
            ]
          },
          "metadata": {},
          "execution_count": 1292
        }
      ],
      "source": [
        "df[\"dur\"].value_counts()"
      ]
    },
    {
      "cell_type": "code",
      "execution_count": 1293,
      "metadata": {
        "colab": {
          "base_uri": "https://localhost:8080/"
        },
        "id": "E9HrJ82Y9qwp",
        "outputId": "58eae9ec-4a82-4c6a-9484-55ac00967a3c"
      },
      "outputs": [
        {
          "output_type": "execute_result",
          "data": {
            "text/plain": [
              "1     17542\n",
              "2     12503\n",
              "3      5521\n",
              "4      3520\n",
              "5      1764\n",
              "6      1291\n",
              "7       735\n",
              "8       540\n",
              "9       327\n",
              "10      266\n",
              "11      201\n",
              "12      155\n",
              "13      133\n",
              "14       93\n",
              "15       84\n",
              "16       79\n",
              "17       69\n",
              "18       51\n",
              "19       44\n",
              "20       43\n",
              "21       35\n",
              "22       23\n",
              "25       22\n",
              "23       22\n",
              "24       20\n",
              "29       16\n",
              "28       16\n",
              "26       13\n",
              "31       12\n",
              "27       10\n",
              "32        9\n",
              "30        8\n",
              "33        6\n",
              "34        5\n",
              "36        4\n",
              "35        4\n",
              "43        3\n",
              "38        3\n",
              "37        2\n",
              "50        2\n",
              "41        2\n",
              "46        1\n",
              "58        1\n",
              "55        1\n",
              "63        1\n",
              "51        1\n",
              "39        1\n",
              "44        1\n",
              "Name: num_calls, dtype: int64"
            ]
          },
          "metadata": {},
          "execution_count": 1293
        }
      ],
      "source": [
        "df[\"num_calls\"].value_counts()"
      ]
    },
    {
      "cell_type": "code",
      "execution_count": 1294,
      "metadata": {
        "colab": {
          "base_uri": "https://localhost:8080/"
        },
        "id": "Fmd0w-CU96eN",
        "outputId": "5c1b7293-e490-44a7-b896-95da480234a5"
      },
      "outputs": [
        {
          "output_type": "execute_result",
          "data": {
            "text/plain": [
              "unknown    36953\n",
              "failure     4901\n",
              "other       1840\n",
              "success     1511\n",
              "Name: prev_outcome, dtype: int64"
            ]
          },
          "metadata": {},
          "execution_count": 1294
        }
      ],
      "source": [
        "df[\"prev_outcome\"].value_counts()"
      ]
    },
    {
      "cell_type": "code",
      "execution_count": 1295,
      "metadata": {
        "colab": {
          "base_uri": "https://localhost:8080/"
        },
        "id": "o1FyLEpK-P0v",
        "outputId": "f5f17c18-7201-4aee-8125-f1c4787f3aa0"
      },
      "outputs": [
        {
          "output_type": "execute_result",
          "data": {
            "text/plain": [
              "age               0\n",
              "job               0\n",
              "marital           0\n",
              "education_qual    0\n",
              "call_type         0\n",
              "day               0\n",
              "mon               0\n",
              "dur               0\n",
              "num_calls         0\n",
              "prev_outcome      0\n",
              "y                 0\n",
              "dtype: int64"
            ]
          },
          "metadata": {},
          "execution_count": 1295
        }
      ],
      "source": [
        "df.isnull().sum()"
      ]
    },
    {
      "cell_type": "code",
      "execution_count": 1296,
      "metadata": {
        "colab": {
          "base_uri": "https://localhost:8080/"
        },
        "id": "DC11F3ktBdmM",
        "outputId": "118984ef-e844-41d5-b09c-02555016a403"
      },
      "outputs": [
        {
          "output_type": "execute_result",
          "data": {
            "text/plain": [
              "yes    978\n",
              "no     533\n",
              "Name: y, dtype: int64"
            ]
          },
          "metadata": {},
          "execution_count": 1296
        }
      ],
      "source": [
        "df[df[\"prev_outcome\"]==\"success\"].y.value_counts()"
      ]
    },
    {
      "cell_type": "code",
      "source": [
        "df[\"y\"].value_counts()"
      ],
      "metadata": {
        "colab": {
          "base_uri": "https://localhost:8080/"
        },
        "id": "bl5WdSXCu8D4",
        "outputId": "47a1743b-8714-476b-b139-7aea65a922ec"
      },
      "execution_count": 1297,
      "outputs": [
        {
          "output_type": "execute_result",
          "data": {
            "text/plain": [
              "no     39916\n",
              "yes     5289\n",
              "Name: y, dtype: int64"
            ]
          },
          "metadata": {},
          "execution_count": 1297
        }
      ]
    },
    {
      "cell_type": "code",
      "execution_count": 1298,
      "metadata": {
        "id": "INyABCRLLM_X",
        "colab": {
          "base_uri": "https://localhost:8080/"
        },
        "outputId": "07e15897-1cdb-4a1e-ec24-7d6bc00cb3e4"
      },
      "outputs": [
        {
          "output_type": "execute_result",
          "data": {
            "text/plain": [
              "age               0\n",
              "job               0\n",
              "marital           0\n",
              "education_qual    0\n",
              "call_type         0\n",
              "day               0\n",
              "mon               0\n",
              "dur               0\n",
              "num_calls         0\n",
              "prev_outcome      0\n",
              "y                 0\n",
              "dtype: int64"
            ]
          },
          "metadata": {},
          "execution_count": 1298
        }
      ],
      "source": [
        "df.isnull().sum()"
      ]
    },
    {
      "cell_type": "code",
      "execution_count": 1299,
      "metadata": {
        "id": "tdAE5YLALu6s",
        "colab": {
          "base_uri": "https://localhost:8080/",
          "height": 300
        },
        "outputId": "9c562826-03b3-4ee2-cbd5-335e0cfbc7ee"
      },
      "outputs": [
        {
          "output_type": "execute_result",
          "data": {
            "text/plain": [
              "                age          day           dur     num_calls\n",
              "count  45205.000000  45205.00000  45205.000000  45205.000000\n",
              "mean      40.937087     15.80688    258.183055      2.763898\n",
              "std       10.619130      8.32234    257.538504      3.098189\n",
              "min       18.000000      1.00000      0.000000      1.000000\n",
              "25%       33.000000      8.00000    103.000000      1.000000\n",
              "50%       39.000000     16.00000    180.000000      2.000000\n",
              "75%       48.000000     21.00000    319.000000      3.000000\n",
              "max       95.000000     31.00000   4918.000000     63.000000"
            ],
            "text/html": [
              "\n",
              "  <div id=\"df-ced5bb09-ec0a-4648-9767-89ef38ef76fe\">\n",
              "    <div class=\"colab-df-container\">\n",
              "      <div>\n",
              "<style scoped>\n",
              "    .dataframe tbody tr th:only-of-type {\n",
              "        vertical-align: middle;\n",
              "    }\n",
              "\n",
              "    .dataframe tbody tr th {\n",
              "        vertical-align: top;\n",
              "    }\n",
              "\n",
              "    .dataframe thead th {\n",
              "        text-align: right;\n",
              "    }\n",
              "</style>\n",
              "<table border=\"1\" class=\"dataframe\">\n",
              "  <thead>\n",
              "    <tr style=\"text-align: right;\">\n",
              "      <th></th>\n",
              "      <th>age</th>\n",
              "      <th>day</th>\n",
              "      <th>dur</th>\n",
              "      <th>num_calls</th>\n",
              "    </tr>\n",
              "  </thead>\n",
              "  <tbody>\n",
              "    <tr>\n",
              "      <th>count</th>\n",
              "      <td>45205.000000</td>\n",
              "      <td>45205.00000</td>\n",
              "      <td>45205.000000</td>\n",
              "      <td>45205.000000</td>\n",
              "    </tr>\n",
              "    <tr>\n",
              "      <th>mean</th>\n",
              "      <td>40.937087</td>\n",
              "      <td>15.80688</td>\n",
              "      <td>258.183055</td>\n",
              "      <td>2.763898</td>\n",
              "    </tr>\n",
              "    <tr>\n",
              "      <th>std</th>\n",
              "      <td>10.619130</td>\n",
              "      <td>8.32234</td>\n",
              "      <td>257.538504</td>\n",
              "      <td>3.098189</td>\n",
              "    </tr>\n",
              "    <tr>\n",
              "      <th>min</th>\n",
              "      <td>18.000000</td>\n",
              "      <td>1.00000</td>\n",
              "      <td>0.000000</td>\n",
              "      <td>1.000000</td>\n",
              "    </tr>\n",
              "    <tr>\n",
              "      <th>25%</th>\n",
              "      <td>33.000000</td>\n",
              "      <td>8.00000</td>\n",
              "      <td>103.000000</td>\n",
              "      <td>1.000000</td>\n",
              "    </tr>\n",
              "    <tr>\n",
              "      <th>50%</th>\n",
              "      <td>39.000000</td>\n",
              "      <td>16.00000</td>\n",
              "      <td>180.000000</td>\n",
              "      <td>2.000000</td>\n",
              "    </tr>\n",
              "    <tr>\n",
              "      <th>75%</th>\n",
              "      <td>48.000000</td>\n",
              "      <td>21.00000</td>\n",
              "      <td>319.000000</td>\n",
              "      <td>3.000000</td>\n",
              "    </tr>\n",
              "    <tr>\n",
              "      <th>max</th>\n",
              "      <td>95.000000</td>\n",
              "      <td>31.00000</td>\n",
              "      <td>4918.000000</td>\n",
              "      <td>63.000000</td>\n",
              "    </tr>\n",
              "  </tbody>\n",
              "</table>\n",
              "</div>\n",
              "      <button class=\"colab-df-convert\" onclick=\"convertToInteractive('df-ced5bb09-ec0a-4648-9767-89ef38ef76fe')\"\n",
              "              title=\"Convert this dataframe to an interactive table.\"\n",
              "              style=\"display:none;\">\n",
              "        \n",
              "  <svg xmlns=\"http://www.w3.org/2000/svg\" height=\"24px\"viewBox=\"0 0 24 24\"\n",
              "       width=\"24px\">\n",
              "    <path d=\"M0 0h24v24H0V0z\" fill=\"none\"/>\n",
              "    <path d=\"M18.56 5.44l.94 2.06.94-2.06 2.06-.94-2.06-.94-.94-2.06-.94 2.06-2.06.94zm-11 1L8.5 8.5l.94-2.06 2.06-.94-2.06-.94L8.5 2.5l-.94 2.06-2.06.94zm10 10l.94 2.06.94-2.06 2.06-.94-2.06-.94-.94-2.06-.94 2.06-2.06.94z\"/><path d=\"M17.41 7.96l-1.37-1.37c-.4-.4-.92-.59-1.43-.59-.52 0-1.04.2-1.43.59L10.3 9.45l-7.72 7.72c-.78.78-.78 2.05 0 2.83L4 21.41c.39.39.9.59 1.41.59.51 0 1.02-.2 1.41-.59l7.78-7.78 2.81-2.81c.8-.78.8-2.07 0-2.86zM5.41 20L4 18.59l7.72-7.72 1.47 1.35L5.41 20z\"/>\n",
              "  </svg>\n",
              "      </button>\n",
              "      \n",
              "  <style>\n",
              "    .colab-df-container {\n",
              "      display:flex;\n",
              "      flex-wrap:wrap;\n",
              "      gap: 12px;\n",
              "    }\n",
              "\n",
              "    .colab-df-convert {\n",
              "      background-color: #E8F0FE;\n",
              "      border: none;\n",
              "      border-radius: 50%;\n",
              "      cursor: pointer;\n",
              "      display: none;\n",
              "      fill: #1967D2;\n",
              "      height: 32px;\n",
              "      padding: 0 0 0 0;\n",
              "      width: 32px;\n",
              "    }\n",
              "\n",
              "    .colab-df-convert:hover {\n",
              "      background-color: #E2EBFA;\n",
              "      box-shadow: 0px 1px 2px rgba(60, 64, 67, 0.3), 0px 1px 3px 1px rgba(60, 64, 67, 0.15);\n",
              "      fill: #174EA6;\n",
              "    }\n",
              "\n",
              "    [theme=dark] .colab-df-convert {\n",
              "      background-color: #3B4455;\n",
              "      fill: #D2E3FC;\n",
              "    }\n",
              "\n",
              "    [theme=dark] .colab-df-convert:hover {\n",
              "      background-color: #434B5C;\n",
              "      box-shadow: 0px 1px 3px 1px rgba(0, 0, 0, 0.15);\n",
              "      filter: drop-shadow(0px 1px 2px rgba(0, 0, 0, 0.3));\n",
              "      fill: #FFFFFF;\n",
              "    }\n",
              "  </style>\n",
              "\n",
              "      <script>\n",
              "        const buttonEl =\n",
              "          document.querySelector('#df-ced5bb09-ec0a-4648-9767-89ef38ef76fe button.colab-df-convert');\n",
              "        buttonEl.style.display =\n",
              "          google.colab.kernel.accessAllowed ? 'block' : 'none';\n",
              "\n",
              "        async function convertToInteractive(key) {\n",
              "          const element = document.querySelector('#df-ced5bb09-ec0a-4648-9767-89ef38ef76fe');\n",
              "          const dataTable =\n",
              "            await google.colab.kernel.invokeFunction('convertToInteractive',\n",
              "                                                     [key], {});\n",
              "          if (!dataTable) return;\n",
              "\n",
              "          const docLinkHtml = 'Like what you see? Visit the ' +\n",
              "            '<a target=\"_blank\" href=https://colab.research.google.com/notebooks/data_table.ipynb>data table notebook</a>'\n",
              "            + ' to learn more about interactive tables.';\n",
              "          element.innerHTML = '';\n",
              "          dataTable['output_type'] = 'display_data';\n",
              "          await google.colab.output.renderOutput(dataTable, element);\n",
              "          const docLink = document.createElement('div');\n",
              "          docLink.innerHTML = docLinkHtml;\n",
              "          element.appendChild(docLink);\n",
              "        }\n",
              "      </script>\n",
              "    </div>\n",
              "  </div>\n",
              "  "
            ]
          },
          "metadata": {},
          "execution_count": 1299
        }
      ],
      "source": [
        "df.describe()"
      ]
    },
    {
      "cell_type": "markdown",
      "source": [
        "**Check for the Outliers**"
      ],
      "metadata": {
        "id": "jW1rbyfQdtUL"
      }
    },
    {
      "cell_type": "markdown",
      "source": [
        "\n",
        "\n",
        "*   There are some outliers in the data and I have imputed using iqr method in num_calls and dur\n",
        "\n",
        "*   For correcting the data,I'm using clipping method"
      ],
      "metadata": {
        "id": "deznHm3s8KQq"
      }
    },
    {
      "cell_type": "code",
      "source": [
        "df.num_calls.values[0]"
      ],
      "metadata": {
        "colab": {
          "base_uri": "https://localhost:8080/"
        },
        "id": "8s8lEKJUv71K",
        "outputId": "0d6ed464-c47e-4502-9fe9-0c0226462afc"
      },
      "execution_count": 1300,
      "outputs": [
        {
          "output_type": "execute_result",
          "data": {
            "text/plain": [
              "1"
            ]
          },
          "metadata": {},
          "execution_count": 1300
        }
      ]
    },
    {
      "cell_type": "code",
      "source": [
        "#IQR\n",
        "iqr = df[\"num_calls\"].quantile(0.75)-df[\"num_calls\"].quantile(0.25)\n",
        "UL = df.num_calls.quantile(0.75) + (1.5*iqr)\n",
        "LL = df.num_calls.quantile(0.25) - (1.5*iqr)\n",
        "LL,UL\n",
        "\n"
      ],
      "metadata": {
        "colab": {
          "base_uri": "https://localhost:8080/"
        },
        "id": "uTM8-Mb5v8Oz",
        "outputId": "5ab6b1be-9cd4-499b-a56d-122cd10fb772"
      },
      "execution_count": 1301,
      "outputs": [
        {
          "output_type": "execute_result",
          "data": {
            "text/plain": [
              "(-2.0, 6.0)"
            ]
          },
          "metadata": {},
          "execution_count": 1301
        }
      ]
    },
    {
      "cell_type": "code",
      "source": [
        "df.num_calls = df.num_calls.clip(0,6)"
      ],
      "metadata": {
        "id": "oTKr1v_Nv9G1"
      },
      "execution_count": 1302,
      "outputs": []
    },
    {
      "cell_type": "code",
      "source": [
        "df.num_calls.describe()"
      ],
      "metadata": {
        "colab": {
          "base_uri": "https://localhost:8080/"
        },
        "id": "hZQw1K1YxCX2",
        "outputId": "77d3c3ae-7943-4461-cb6f-ec049a536a1d"
      },
      "execution_count": 1303,
      "outputs": [
        {
          "output_type": "execute_result",
          "data": {
            "text/plain": [
              "count    45205.000000\n",
              "mean         2.392235\n",
              "std          1.600152\n",
              "min          1.000000\n",
              "25%          1.000000\n",
              "50%          2.000000\n",
              "75%          3.000000\n",
              "max          6.000000\n",
              "Name: num_calls, dtype: float64"
            ]
          },
          "metadata": {},
          "execution_count": 1303
        }
      ]
    },
    {
      "cell_type": "code",
      "source": [
        "df.dur.values[0]"
      ],
      "metadata": {
        "colab": {
          "base_uri": "https://localhost:8080/"
        },
        "id": "r_Rt2V7hyAy8",
        "outputId": "eb726049-4692-4dc5-964a-09edb7b9aa36"
      },
      "execution_count": 1304,
      "outputs": [
        {
          "output_type": "execute_result",
          "data": {
            "text/plain": [
              "261"
            ]
          },
          "metadata": {},
          "execution_count": 1304
        }
      ]
    },
    {
      "cell_type": "code",
      "source": [
        "iqr = df[\"dur\"].quantile(0.75)-df[\"dur\"].quantile(0.25)\n",
        "UL = df.dur.quantile(0.75) + (1.5*iqr)\n",
        "LL = df.dur.quantile(0.25) - (1.5*iqr)\n",
        "LL,UL"
      ],
      "metadata": {
        "colab": {
          "base_uri": "https://localhost:8080/"
        },
        "id": "VH24BpiHyy-O",
        "outputId": "b4fa5cd5-e284-4221-8404-1ce34eaba192"
      },
      "execution_count": 1305,
      "outputs": [
        {
          "output_type": "execute_result",
          "data": {
            "text/plain": [
              "(-221.0, 643.0)"
            ]
          },
          "metadata": {},
          "execution_count": 1305
        }
      ]
    },
    {
      "cell_type": "code",
      "source": [
        "df.dur = df.dur.clip(-221,643)"
      ],
      "metadata": {
        "id": "VwSm-aSAy8We"
      },
      "execution_count": 1306,
      "outputs": []
    },
    {
      "cell_type": "code",
      "source": [
        "df.dur.describe()"
      ],
      "metadata": {
        "colab": {
          "base_uri": "https://localhost:8080/"
        },
        "id": "obeTwD-XzOy6",
        "outputId": "33453692-e67e-4f42-b7b5-df0eb0676eef"
      },
      "execution_count": 1307,
      "outputs": [
        {
          "output_type": "execute_result",
          "data": {
            "text/plain": [
              "count    45205.00000\n",
              "mean       234.95620\n",
              "std        176.75476\n",
              "min          0.00000\n",
              "25%        103.00000\n",
              "50%        180.00000\n",
              "75%        319.00000\n",
              "max        643.00000\n",
              "Name: dur, dtype: float64"
            ]
          },
          "metadata": {},
          "execution_count": 1307
        }
      ]
    },
    {
      "cell_type": "code",
      "source": [
        "sum(df.num_calls.isnull())"
      ],
      "metadata": {
        "colab": {
          "base_uri": "https://localhost:8080/"
        },
        "id": "jSD0PxBtzeRr",
        "outputId": "00d9c5bf-6a37-4af4-8200-b1226f48b99d"
      },
      "execution_count": 1308,
      "outputs": [
        {
          "output_type": "execute_result",
          "data": {
            "text/plain": [
              "0"
            ]
          },
          "metadata": {},
          "execution_count": 1308
        }
      ]
    },
    {
      "cell_type": "code",
      "source": [
        "sum(df.dur.isnull())"
      ],
      "metadata": {
        "colab": {
          "base_uri": "https://localhost:8080/"
        },
        "id": "lKZilkmzzfsb",
        "outputId": "facd112d-5b4d-4d6f-918a-fc6634e03f24"
      },
      "execution_count": 1309,
      "outputs": [
        {
          "output_type": "execute_result",
          "data": {
            "text/plain": [
              "0"
            ]
          },
          "metadata": {},
          "execution_count": 1309
        }
      ]
    },
    {
      "cell_type": "code",
      "source": [
        "df.describe()"
      ],
      "metadata": {
        "colab": {
          "base_uri": "https://localhost:8080/",
          "height": 300
        },
        "id": "dGHt1R_TzizB",
        "outputId": "bd76b127-5f17-4cea-f7bd-2fd967379d69"
      },
      "execution_count": 1310,
      "outputs": [
        {
          "output_type": "execute_result",
          "data": {
            "text/plain": [
              "                age          day          dur     num_calls\n",
              "count  45205.000000  45205.00000  45205.00000  45205.000000\n",
              "mean      40.937087     15.80688    234.95620      2.392235\n",
              "std       10.619130      8.32234    176.75476      1.600152\n",
              "min       18.000000      1.00000      0.00000      1.000000\n",
              "25%       33.000000      8.00000    103.00000      1.000000\n",
              "50%       39.000000     16.00000    180.00000      2.000000\n",
              "75%       48.000000     21.00000    319.00000      3.000000\n",
              "max       95.000000     31.00000    643.00000      6.000000"
            ],
            "text/html": [
              "\n",
              "  <div id=\"df-3329cea6-d682-4361-a125-2e471ebfb1f9\">\n",
              "    <div class=\"colab-df-container\">\n",
              "      <div>\n",
              "<style scoped>\n",
              "    .dataframe tbody tr th:only-of-type {\n",
              "        vertical-align: middle;\n",
              "    }\n",
              "\n",
              "    .dataframe tbody tr th {\n",
              "        vertical-align: top;\n",
              "    }\n",
              "\n",
              "    .dataframe thead th {\n",
              "        text-align: right;\n",
              "    }\n",
              "</style>\n",
              "<table border=\"1\" class=\"dataframe\">\n",
              "  <thead>\n",
              "    <tr style=\"text-align: right;\">\n",
              "      <th></th>\n",
              "      <th>age</th>\n",
              "      <th>day</th>\n",
              "      <th>dur</th>\n",
              "      <th>num_calls</th>\n",
              "    </tr>\n",
              "  </thead>\n",
              "  <tbody>\n",
              "    <tr>\n",
              "      <th>count</th>\n",
              "      <td>45205.000000</td>\n",
              "      <td>45205.00000</td>\n",
              "      <td>45205.00000</td>\n",
              "      <td>45205.000000</td>\n",
              "    </tr>\n",
              "    <tr>\n",
              "      <th>mean</th>\n",
              "      <td>40.937087</td>\n",
              "      <td>15.80688</td>\n",
              "      <td>234.95620</td>\n",
              "      <td>2.392235</td>\n",
              "    </tr>\n",
              "    <tr>\n",
              "      <th>std</th>\n",
              "      <td>10.619130</td>\n",
              "      <td>8.32234</td>\n",
              "      <td>176.75476</td>\n",
              "      <td>1.600152</td>\n",
              "    </tr>\n",
              "    <tr>\n",
              "      <th>min</th>\n",
              "      <td>18.000000</td>\n",
              "      <td>1.00000</td>\n",
              "      <td>0.00000</td>\n",
              "      <td>1.000000</td>\n",
              "    </tr>\n",
              "    <tr>\n",
              "      <th>25%</th>\n",
              "      <td>33.000000</td>\n",
              "      <td>8.00000</td>\n",
              "      <td>103.00000</td>\n",
              "      <td>1.000000</td>\n",
              "    </tr>\n",
              "    <tr>\n",
              "      <th>50%</th>\n",
              "      <td>39.000000</td>\n",
              "      <td>16.00000</td>\n",
              "      <td>180.00000</td>\n",
              "      <td>2.000000</td>\n",
              "    </tr>\n",
              "    <tr>\n",
              "      <th>75%</th>\n",
              "      <td>48.000000</td>\n",
              "      <td>21.00000</td>\n",
              "      <td>319.00000</td>\n",
              "      <td>3.000000</td>\n",
              "    </tr>\n",
              "    <tr>\n",
              "      <th>max</th>\n",
              "      <td>95.000000</td>\n",
              "      <td>31.00000</td>\n",
              "      <td>643.00000</td>\n",
              "      <td>6.000000</td>\n",
              "    </tr>\n",
              "  </tbody>\n",
              "</table>\n",
              "</div>\n",
              "      <button class=\"colab-df-convert\" onclick=\"convertToInteractive('df-3329cea6-d682-4361-a125-2e471ebfb1f9')\"\n",
              "              title=\"Convert this dataframe to an interactive table.\"\n",
              "              style=\"display:none;\">\n",
              "        \n",
              "  <svg xmlns=\"http://www.w3.org/2000/svg\" height=\"24px\"viewBox=\"0 0 24 24\"\n",
              "       width=\"24px\">\n",
              "    <path d=\"M0 0h24v24H0V0z\" fill=\"none\"/>\n",
              "    <path d=\"M18.56 5.44l.94 2.06.94-2.06 2.06-.94-2.06-.94-.94-2.06-.94 2.06-2.06.94zm-11 1L8.5 8.5l.94-2.06 2.06-.94-2.06-.94L8.5 2.5l-.94 2.06-2.06.94zm10 10l.94 2.06.94-2.06 2.06-.94-2.06-.94-.94-2.06-.94 2.06-2.06.94z\"/><path d=\"M17.41 7.96l-1.37-1.37c-.4-.4-.92-.59-1.43-.59-.52 0-1.04.2-1.43.59L10.3 9.45l-7.72 7.72c-.78.78-.78 2.05 0 2.83L4 21.41c.39.39.9.59 1.41.59.51 0 1.02-.2 1.41-.59l7.78-7.78 2.81-2.81c.8-.78.8-2.07 0-2.86zM5.41 20L4 18.59l7.72-7.72 1.47 1.35L5.41 20z\"/>\n",
              "  </svg>\n",
              "      </button>\n",
              "      \n",
              "  <style>\n",
              "    .colab-df-container {\n",
              "      display:flex;\n",
              "      flex-wrap:wrap;\n",
              "      gap: 12px;\n",
              "    }\n",
              "\n",
              "    .colab-df-convert {\n",
              "      background-color: #E8F0FE;\n",
              "      border: none;\n",
              "      border-radius: 50%;\n",
              "      cursor: pointer;\n",
              "      display: none;\n",
              "      fill: #1967D2;\n",
              "      height: 32px;\n",
              "      padding: 0 0 0 0;\n",
              "      width: 32px;\n",
              "    }\n",
              "\n",
              "    .colab-df-convert:hover {\n",
              "      background-color: #E2EBFA;\n",
              "      box-shadow: 0px 1px 2px rgba(60, 64, 67, 0.3), 0px 1px 3px 1px rgba(60, 64, 67, 0.15);\n",
              "      fill: #174EA6;\n",
              "    }\n",
              "\n",
              "    [theme=dark] .colab-df-convert {\n",
              "      background-color: #3B4455;\n",
              "      fill: #D2E3FC;\n",
              "    }\n",
              "\n",
              "    [theme=dark] .colab-df-convert:hover {\n",
              "      background-color: #434B5C;\n",
              "      box-shadow: 0px 1px 3px 1px rgba(0, 0, 0, 0.15);\n",
              "      filter: drop-shadow(0px 1px 2px rgba(0, 0, 0, 0.3));\n",
              "      fill: #FFFFFF;\n",
              "    }\n",
              "  </style>\n",
              "\n",
              "      <script>\n",
              "        const buttonEl =\n",
              "          document.querySelector('#df-3329cea6-d682-4361-a125-2e471ebfb1f9 button.colab-df-convert');\n",
              "        buttonEl.style.display =\n",
              "          google.colab.kernel.accessAllowed ? 'block' : 'none';\n",
              "\n",
              "        async function convertToInteractive(key) {\n",
              "          const element = document.querySelector('#df-3329cea6-d682-4361-a125-2e471ebfb1f9');\n",
              "          const dataTable =\n",
              "            await google.colab.kernel.invokeFunction('convertToInteractive',\n",
              "                                                     [key], {});\n",
              "          if (!dataTable) return;\n",
              "\n",
              "          const docLinkHtml = 'Like what you see? Visit the ' +\n",
              "            '<a target=\"_blank\" href=https://colab.research.google.com/notebooks/data_table.ipynb>data table notebook</a>'\n",
              "            + ' to learn more about interactive tables.';\n",
              "          element.innerHTML = '';\n",
              "          dataTable['output_type'] = 'display_data';\n",
              "          await google.colab.output.renderOutput(dataTable, element);\n",
              "          const docLink = document.createElement('div');\n",
              "          docLink.innerHTML = docLinkHtml;\n",
              "          element.appendChild(docLink);\n",
              "        }\n",
              "      </script>\n",
              "    </div>\n",
              "  </div>\n",
              "  "
            ]
          },
          "metadata": {},
          "execution_count": 1310
        }
      ]
    },
    {
      "cell_type": "markdown",
      "source": [
        "**Check the data format**"
      ],
      "metadata": {
        "id": "nWIHoYt6eDJo"
      }
    },
    {
      "cell_type": "code",
      "source": [
        "import warnings\n",
        "warnings.filterwarnings('ignore')"
      ],
      "metadata": {
        "id": "WMCDmQWhG-19"
      },
      "execution_count": 1311,
      "outputs": []
    },
    {
      "cell_type": "code",
      "source": [
        "df[\"target\"] = df[\"y\"].map({\"yes\":1, \"no\":0})"
      ],
      "metadata": {
        "id": "54uBD8_F0ZSx"
      },
      "execution_count": 1312,
      "outputs": []
    },
    {
      "cell_type": "code",
      "source": [
        "df.groupby(\"prev_outcome\")[\"target\"].mean()"
      ],
      "metadata": {
        "colab": {
          "base_uri": "https://localhost:8080/"
        },
        "id": "RzcdJrqw1ri4",
        "outputId": "b87a801f-5160-4d11-b6d5-86f3cd4ec996"
      },
      "execution_count": 1313,
      "outputs": [
        {
          "output_type": "execute_result",
          "data": {
            "text/plain": [
              "prev_outcome\n",
              "failure    0.126097\n",
              "other      0.166848\n",
              "success    0.647253\n",
              "unknown    0.091630\n",
              "Name: target, dtype: float64"
            ]
          },
          "metadata": {},
          "execution_count": 1313
        }
      ]
    },
    {
      "cell_type": "code",
      "execution_count": 1314,
      "metadata": {
        "id": "2YUH7T8WMcHt",
        "colab": {
          "base_uri": "https://localhost:8080/"
        },
        "outputId": "79af62f2-12e5-4eec-a294-b97ba2e9f956"
      },
      "outputs": [
        {
          "output_type": "stream",
          "name": "stdout",
          "text": [
            "<class 'pandas.core.frame.DataFrame'>\n",
            "Int64Index: 45205 entries, 0 to 45210\n",
            "Data columns (total 12 columns):\n",
            " #   Column          Non-Null Count  Dtype \n",
            "---  ------          --------------  ----- \n",
            " 0   age             45205 non-null  int64 \n",
            " 1   job             45205 non-null  object\n",
            " 2   marital         45205 non-null  object\n",
            " 3   education_qual  45205 non-null  object\n",
            " 4   call_type       45205 non-null  object\n",
            " 5   day             45205 non-null  int64 \n",
            " 6   mon             45205 non-null  object\n",
            " 7   dur             45205 non-null  int64 \n",
            " 8   num_calls       45205 non-null  int64 \n",
            " 9   prev_outcome    45205 non-null  object\n",
            " 10  y               45205 non-null  object\n",
            " 11  target          45205 non-null  int64 \n",
            "dtypes: int64(5), object(7)\n",
            "memory usage: 4.5+ MB\n"
          ]
        }
      ],
      "source": [
        "df.info()"
      ]
    },
    {
      "cell_type": "code",
      "execution_count": 1315,
      "metadata": {
        "id": "NhsJXlzDMfJu",
        "colab": {
          "base_uri": "https://localhost:8080/"
        },
        "outputId": "693029f2-0e38-40d6-925a-5ce8c8d99a4c"
      },
      "outputs": [
        {
          "output_type": "execute_result",
          "data": {
            "text/plain": [
              "age                int64\n",
              "job               object\n",
              "marital           object\n",
              "education_qual    object\n",
              "call_type         object\n",
              "day                int64\n",
              "mon               object\n",
              "dur                int64\n",
              "num_calls          int64\n",
              "prev_outcome      object\n",
              "y                 object\n",
              "target             int64\n",
              "dtype: object"
            ]
          },
          "metadata": {},
          "execution_count": 1315
        }
      ],
      "source": [
        "df.dtypes"
      ]
    },
    {
      "cell_type": "code",
      "execution_count": 1316,
      "metadata": {
        "id": "P5zouqWyMwD5",
        "colab": {
          "base_uri": "https://localhost:8080/",
          "height": 206
        },
        "outputId": "b28514eb-337f-47b2-eb8f-40c61a19c4ef"
      },
      "outputs": [
        {
          "output_type": "execute_result",
          "data": {
            "text/plain": [
              "   age           job  marital education_qual call_type  day  mon  dur  \\\n",
              "0   58    management  married       tertiary   unknown    5  may  261   \n",
              "1   44    technician   single      secondary   unknown    5  may  151   \n",
              "2   33  entrepreneur  married      secondary   unknown    5  may   76   \n",
              "3   47   blue-collar  married      secondary   unknown    5  may   92   \n",
              "4   33   blue-collar   single      secondary   unknown    5  may  198   \n",
              "\n",
              "   num_calls prev_outcome   y  target  \n",
              "0          1      unknown  no       0  \n",
              "1          1      unknown  no       0  \n",
              "2          1      unknown  no       0  \n",
              "3          1      unknown  no       0  \n",
              "4          1      unknown  no       0  "
            ],
            "text/html": [
              "\n",
              "  <div id=\"df-0caaaa12-4d41-4e00-adfa-768b97a4c6af\">\n",
              "    <div class=\"colab-df-container\">\n",
              "      <div>\n",
              "<style scoped>\n",
              "    .dataframe tbody tr th:only-of-type {\n",
              "        vertical-align: middle;\n",
              "    }\n",
              "\n",
              "    .dataframe tbody tr th {\n",
              "        vertical-align: top;\n",
              "    }\n",
              "\n",
              "    .dataframe thead th {\n",
              "        text-align: right;\n",
              "    }\n",
              "</style>\n",
              "<table border=\"1\" class=\"dataframe\">\n",
              "  <thead>\n",
              "    <tr style=\"text-align: right;\">\n",
              "      <th></th>\n",
              "      <th>age</th>\n",
              "      <th>job</th>\n",
              "      <th>marital</th>\n",
              "      <th>education_qual</th>\n",
              "      <th>call_type</th>\n",
              "      <th>day</th>\n",
              "      <th>mon</th>\n",
              "      <th>dur</th>\n",
              "      <th>num_calls</th>\n",
              "      <th>prev_outcome</th>\n",
              "      <th>y</th>\n",
              "      <th>target</th>\n",
              "    </tr>\n",
              "  </thead>\n",
              "  <tbody>\n",
              "    <tr>\n",
              "      <th>0</th>\n",
              "      <td>58</td>\n",
              "      <td>management</td>\n",
              "      <td>married</td>\n",
              "      <td>tertiary</td>\n",
              "      <td>unknown</td>\n",
              "      <td>5</td>\n",
              "      <td>may</td>\n",
              "      <td>261</td>\n",
              "      <td>1</td>\n",
              "      <td>unknown</td>\n",
              "      <td>no</td>\n",
              "      <td>0</td>\n",
              "    </tr>\n",
              "    <tr>\n",
              "      <th>1</th>\n",
              "      <td>44</td>\n",
              "      <td>technician</td>\n",
              "      <td>single</td>\n",
              "      <td>secondary</td>\n",
              "      <td>unknown</td>\n",
              "      <td>5</td>\n",
              "      <td>may</td>\n",
              "      <td>151</td>\n",
              "      <td>1</td>\n",
              "      <td>unknown</td>\n",
              "      <td>no</td>\n",
              "      <td>0</td>\n",
              "    </tr>\n",
              "    <tr>\n",
              "      <th>2</th>\n",
              "      <td>33</td>\n",
              "      <td>entrepreneur</td>\n",
              "      <td>married</td>\n",
              "      <td>secondary</td>\n",
              "      <td>unknown</td>\n",
              "      <td>5</td>\n",
              "      <td>may</td>\n",
              "      <td>76</td>\n",
              "      <td>1</td>\n",
              "      <td>unknown</td>\n",
              "      <td>no</td>\n",
              "      <td>0</td>\n",
              "    </tr>\n",
              "    <tr>\n",
              "      <th>3</th>\n",
              "      <td>47</td>\n",
              "      <td>blue-collar</td>\n",
              "      <td>married</td>\n",
              "      <td>secondary</td>\n",
              "      <td>unknown</td>\n",
              "      <td>5</td>\n",
              "      <td>may</td>\n",
              "      <td>92</td>\n",
              "      <td>1</td>\n",
              "      <td>unknown</td>\n",
              "      <td>no</td>\n",
              "      <td>0</td>\n",
              "    </tr>\n",
              "    <tr>\n",
              "      <th>4</th>\n",
              "      <td>33</td>\n",
              "      <td>blue-collar</td>\n",
              "      <td>single</td>\n",
              "      <td>secondary</td>\n",
              "      <td>unknown</td>\n",
              "      <td>5</td>\n",
              "      <td>may</td>\n",
              "      <td>198</td>\n",
              "      <td>1</td>\n",
              "      <td>unknown</td>\n",
              "      <td>no</td>\n",
              "      <td>0</td>\n",
              "    </tr>\n",
              "  </tbody>\n",
              "</table>\n",
              "</div>\n",
              "      <button class=\"colab-df-convert\" onclick=\"convertToInteractive('df-0caaaa12-4d41-4e00-adfa-768b97a4c6af')\"\n",
              "              title=\"Convert this dataframe to an interactive table.\"\n",
              "              style=\"display:none;\">\n",
              "        \n",
              "  <svg xmlns=\"http://www.w3.org/2000/svg\" height=\"24px\"viewBox=\"0 0 24 24\"\n",
              "       width=\"24px\">\n",
              "    <path d=\"M0 0h24v24H0V0z\" fill=\"none\"/>\n",
              "    <path d=\"M18.56 5.44l.94 2.06.94-2.06 2.06-.94-2.06-.94-.94-2.06-.94 2.06-2.06.94zm-11 1L8.5 8.5l.94-2.06 2.06-.94-2.06-.94L8.5 2.5l-.94 2.06-2.06.94zm10 10l.94 2.06.94-2.06 2.06-.94-2.06-.94-.94-2.06-.94 2.06-2.06.94z\"/><path d=\"M17.41 7.96l-1.37-1.37c-.4-.4-.92-.59-1.43-.59-.52 0-1.04.2-1.43.59L10.3 9.45l-7.72 7.72c-.78.78-.78 2.05 0 2.83L4 21.41c.39.39.9.59 1.41.59.51 0 1.02-.2 1.41-.59l7.78-7.78 2.81-2.81c.8-.78.8-2.07 0-2.86zM5.41 20L4 18.59l7.72-7.72 1.47 1.35L5.41 20z\"/>\n",
              "  </svg>\n",
              "      </button>\n",
              "      \n",
              "  <style>\n",
              "    .colab-df-container {\n",
              "      display:flex;\n",
              "      flex-wrap:wrap;\n",
              "      gap: 12px;\n",
              "    }\n",
              "\n",
              "    .colab-df-convert {\n",
              "      background-color: #E8F0FE;\n",
              "      border: none;\n",
              "      border-radius: 50%;\n",
              "      cursor: pointer;\n",
              "      display: none;\n",
              "      fill: #1967D2;\n",
              "      height: 32px;\n",
              "      padding: 0 0 0 0;\n",
              "      width: 32px;\n",
              "    }\n",
              "\n",
              "    .colab-df-convert:hover {\n",
              "      background-color: #E2EBFA;\n",
              "      box-shadow: 0px 1px 2px rgba(60, 64, 67, 0.3), 0px 1px 3px 1px rgba(60, 64, 67, 0.15);\n",
              "      fill: #174EA6;\n",
              "    }\n",
              "\n",
              "    [theme=dark] .colab-df-convert {\n",
              "      background-color: #3B4455;\n",
              "      fill: #D2E3FC;\n",
              "    }\n",
              "\n",
              "    [theme=dark] .colab-df-convert:hover {\n",
              "      background-color: #434B5C;\n",
              "      box-shadow: 0px 1px 3px 1px rgba(0, 0, 0, 0.15);\n",
              "      filter: drop-shadow(0px 1px 2px rgba(0, 0, 0, 0.3));\n",
              "      fill: #FFFFFF;\n",
              "    }\n",
              "  </style>\n",
              "\n",
              "      <script>\n",
              "        const buttonEl =\n",
              "          document.querySelector('#df-0caaaa12-4d41-4e00-adfa-768b97a4c6af button.colab-df-convert');\n",
              "        buttonEl.style.display =\n",
              "          google.colab.kernel.accessAllowed ? 'block' : 'none';\n",
              "\n",
              "        async function convertToInteractive(key) {\n",
              "          const element = document.querySelector('#df-0caaaa12-4d41-4e00-adfa-768b97a4c6af');\n",
              "          const dataTable =\n",
              "            await google.colab.kernel.invokeFunction('convertToInteractive',\n",
              "                                                     [key], {});\n",
              "          if (!dataTable) return;\n",
              "\n",
              "          const docLinkHtml = 'Like what you see? Visit the ' +\n",
              "            '<a target=\"_blank\" href=https://colab.research.google.com/notebooks/data_table.ipynb>data table notebook</a>'\n",
              "            + ' to learn more about interactive tables.';\n",
              "          element.innerHTML = '';\n",
              "          dataTable['output_type'] = 'display_data';\n",
              "          await google.colab.output.renderOutput(dataTable, element);\n",
              "          const docLink = document.createElement('div');\n",
              "          docLink.innerHTML = docLinkHtml;\n",
              "          element.appendChild(docLink);\n",
              "        }\n",
              "      </script>\n",
              "    </div>\n",
              "  </div>\n",
              "  "
            ]
          },
          "metadata": {},
          "execution_count": 1316
        }
      ],
      "source": [
        "df.head()"
      ]
    },
    {
      "cell_type": "code",
      "source": [
        "df.isnull().sum().sum()"
      ],
      "metadata": {
        "colab": {
          "base_uri": "https://localhost:8080/"
        },
        "id": "dYJdlk6CK1gB",
        "outputId": "4fba5055-6dc5-46f5-8fff-4dc4f6cf793f"
      },
      "execution_count": 1317,
      "outputs": [
        {
          "output_type": "execute_result",
          "data": {
            "text/plain": [
              "0"
            ]
          },
          "metadata": {},
          "execution_count": 1317
        }
      ]
    },
    {
      "cell_type": "code",
      "source": [
        "df.shape"
      ],
      "metadata": {
        "colab": {
          "base_uri": "https://localhost:8080/"
        },
        "id": "6ybJk7jBVuBQ",
        "outputId": "20b2f59f-c4f3-4877-f3ff-e364ce39caec"
      },
      "execution_count": 1318,
      "outputs": [
        {
          "output_type": "execute_result",
          "data": {
            "text/plain": [
              "(45205, 12)"
            ]
          },
          "metadata": {},
          "execution_count": 1318
        }
      ]
    },
    {
      "cell_type": "markdown",
      "metadata": {
        "id": "VWYZ69I7NXPG"
      },
      "source": [
        "# **Exploratory Data Analysis**\n",
        "\n",
        "\n",
        "\n"
      ]
    },
    {
      "cell_type": "markdown",
      "metadata": {
        "id": "gMGXpwc3LHYP"
      },
      "source": [
        "**Distribution of the feature**"
      ]
    },
    {
      "cell_type": "code",
      "source": [
        "sns.set_theme(style = 'darkgrid', palette='pastel')\n",
        "df_job = pd.DataFrame(df.job.value_counts()).sort_values(\"job\", ascending = False).reset_index()\n",
        "df_job.rename(columns = {'index':\"jobs\",\"job\":\"count\"},inplace = True)\n",
        "bar = sns.barplot(data = df_job,x = df_job['jobs'], y =df_job[\"count\"])\n",
        "bar.tick_params(axis = \"x\", rotation = 90)"
      ],
      "metadata": {
        "colab": {
          "base_uri": "https://localhost:8080/",
          "height": 353
        },
        "id": "CfWvqDnghIsi",
        "outputId": "83153d4e-e968-49f7-9340-ea2e1cc790b7"
      },
      "execution_count": 1331,
      "outputs": [
        {
          "output_type": "display_data",
          "data": {
            "text/plain": [
              "<Figure size 432x288 with 1 Axes>"
            ],
            "image/png": "[encoded data removed]"
          },
          "metadata": {}
        }
      ]
    },
    {
      "cell_type": "markdown",
      "source": [
        "**Interpretation**\n",
        "\n",
        "According to the above graph:\n",
        "*   Blue-collored job has the highest count for insurance claim\n",
        "*   student has the lowest count for insurance claim\n",
        "*   It is in ordered linear fashion\n",
        "\n",
        "\n",
        "\n",
        "\n"
      ],
      "metadata": {
        "id": "fi0O-8_3jaVY"
      }
    },
    {
      "cell_type": "code",
      "execution_count": 1332,
      "metadata": {
        "id": "l9VPFiD7SJO7",
        "colab": {
          "base_uri": "https://localhost:8080/",
          "height": 356
        },
        "outputId": "f3b119c1-8093-4e8c-b299-2d66d902873a"
      },
      "outputs": [
        {
          "output_type": "execute_result",
          "data": {
            "text/plain": [
              "Text(0.5, 1.0, 'based on marital')"
            ]
          },
          "metadata": {},
          "execution_count": 1332
        },
        {
          "output_type": "display_data",
          "data": {
            "text/plain": [
              "<Figure size 432x288 with 1 Axes>"
            ],
            "image/png": "[encoded data removed]"
          },
          "metadata": {}
        }
      ],
      "source": [
        "sns.set_theme(style = 'darkgrid', palette='pastel')\n",
        "sns.countplot(df[\"marital\"])\n",
        "plt.xticks(rotation=90)\n",
        "plt.xlabel(\"marital\")\n",
        "plt.ylabel(\"Count\")\n",
        "plt.title(\"based on marital\")"
      ]
    },
    {
      "cell_type": "markdown",
      "source": [
        "Interpretation\n",
        "\n",
        "Based on the above graph:\n",
        "\n",
        "\n",
        "*   Married people are claiming more insurance than divorced people\n",
        "*   It is in linear and ordered fashion\n",
        "\n",
        "\n",
        "\n",
        "\n",
        "\n"
      ],
      "metadata": {
        "id": "gpMyF5gUkfDt"
      }
    },
    {
      "cell_type": "code",
      "execution_count": 1323,
      "metadata": {
        "id": "-xAL2MwHSJCq",
        "colab": {
          "base_uri": "https://localhost:8080/",
          "height": 365
        },
        "outputId": "e2b6b82a-fbe1-416c-8595-0faed6512537"
      },
      "outputs": [
        {
          "output_type": "execute_result",
          "data": {
            "text/plain": [
              "Text(0.5, 1.0, 'based on education')"
            ]
          },
          "metadata": {},
          "execution_count": 1323
        },
        {
          "output_type": "display_data",
          "data": {
            "text/plain": [
              "<Figure size 432x288 with 1 Axes>"
            ],
            "image/png": "[encoded data removed]"
          },
          "metadata": {}
        }
      ],
      "source": [
        "sns.set_theme(style = 'darkgrid', palette='pastel')\n",
        "sns.countplot(df[\"education_qual\"])\n",
        "plt.xticks(rotation=90)\n",
        "plt.xlabel(\"education_qual\")\n",
        "plt.ylabel(\"Count\")\n",
        "plt.title(\"based on education\")"
      ]
    },
    {
      "cell_type": "markdown",
      "source": [
        "Interpretation\n",
        "\n",
        "Based on the above graph:\n",
        "\n",
        "*  People from secondary education_qual are more prone to claim insurance than primary education_qual\n",
        "\n",
        "*  It is linear fashion and ordered\n",
        "\n",
        "\n"
      ],
      "metadata": {
        "id": "KyK4yVy9lCnp"
      }
    },
    {
      "cell_type": "code",
      "execution_count": 1324,
      "metadata": {
        "id": "vnN7csixSI1Z",
        "colab": {
          "base_uri": "https://localhost:8080/",
          "height": 364
        },
        "outputId": "f3f4670b-a286-49e6-819c-b5bbcb69f0c3"
      },
      "outputs": [
        {
          "output_type": "execute_result",
          "data": {
            "text/plain": [
              "Text(0.5, 1.0, 'based on call')"
            ]
          },
          "metadata": {},
          "execution_count": 1324
        },
        {
          "output_type": "display_data",
          "data": {
            "text/plain": [
              "<Figure size 432x288 with 1 Axes>"
            ],
            "image/png": "[encoded data removed]"
          },
          "metadata": {}
        }
      ],
      "source": [
        "sns.set_theme(style = 'darkgrid', palette='pastel')\n",
        "sns.countplot(df[\"call_type\"])\n",
        "plt.xticks(rotation=90)\n",
        "plt.xlabel(\"call_type\")\n",
        "plt.ylabel(\"Count\")\n",
        "plt.title(\"based on call\")"
      ]
    },
    {
      "cell_type": "code",
      "execution_count": 1333,
      "metadata": {
        "id": "KgNoW6d3SIm5",
        "colab": {
          "base_uri": "https://localhost:8080/",
          "height": 332
        },
        "outputId": "2a58b687-0631-4542-9e66-17a50d78fcce"
      },
      "outputs": [
        {
          "output_type": "execute_result",
          "data": {
            "text/plain": [
              "Text(0.5, 1.0, 'based on mon')"
            ]
          },
          "metadata": {},
          "execution_count": 1333
        },
        {
          "output_type": "display_data",
          "data": {
            "text/plain": [
              "<Figure size 432x288 with 1 Axes>"
            ],
            "image/png": "[encoded data removed]"
          },
          "metadata": {}
        }
      ],
      "source": [
        "sns.set_theme(style = 'darkgrid', palette='pastel')\n",
        "sns.countplot(df[\"mon\"])\n",
        "plt.xticks(rotation=90)\n",
        "plt.xlabel(\"mon\")\n",
        "plt.ylabel(\"Count\")\n",
        "plt.title(\"based on mon\")"
      ]
    },
    {
      "cell_type": "code",
      "execution_count": 1334,
      "metadata": {
        "id": "vclBW9DUSISz",
        "colab": {
          "base_uri": "https://localhost:8080/",
          "height": 358
        },
        "outputId": "7ee45e79-444c-4812-b9f4-d3deab668bb0"
      },
      "outputs": [
        {
          "output_type": "execute_result",
          "data": {
            "text/plain": [
              "Text(0.5, 1.0, 'based on prev_outcome')"
            ]
          },
          "metadata": {},
          "execution_count": 1334
        },
        {
          "output_type": "display_data",
          "data": {
            "text/plain": [
              "<Figure size 432x288 with 1 Axes>"
            ],
            "image/png": "[encoded data removed]"
          },
          "metadata": {}
        }
      ],
      "source": [
        "sns.set_theme(style = 'darkgrid', palette='pastel')\n",
        "sns.countplot(df[\"prev_outcome\"])\n",
        "plt.xticks(rotation=90)\n",
        "plt.xlabel(\"prev_outcome\")\n",
        "plt.ylabel(\"Count\")\n",
        "plt.title(\"based on prev_outcome\")"
      ]
    },
    {
      "cell_type": "code",
      "execution_count": 1335,
      "metadata": {
        "id": "izZBkoI-G2eT",
        "colab": {
          "base_uri": "https://localhost:8080/",
          "height": 315
        },
        "outputId": "29bd0ba8-cca7-41c4-a01c-33240d4d1071"
      },
      "outputs": [
        {
          "output_type": "execute_result",
          "data": {
            "text/plain": [
              "Text(0.5, 1.0, 'based on target')"
            ]
          },
          "metadata": {},
          "execution_count": 1335
        },
        {
          "output_type": "display_data",
          "data": {
            "text/plain": [
              "<Figure size 432x288 with 1 Axes>"
            ],
            "image/png": "[encoded data removed]"
          },
          "metadata": {}
        }
      ],
      "source": [
        "sns.set_theme(style = 'darkgrid', palette='pastel')\n",
        "sns.countplot(df[\"target\"])\n",
        "plt.xticks(rotation=90)\n",
        "plt.xlabel(\"target\")\n",
        "plt.ylabel(\"Count\")\n",
        "plt.title(\"based on target\")"
      ]
    },
    {
      "cell_type": "markdown",
      "metadata": {
        "id": "-hBKduR8TtAD"
      },
      "source": [
        "**Categorial coumns vs target**"
      ]
    },
    {
      "cell_type": "code",
      "execution_count": 1336,
      "metadata": {
        "id": "4MFKw09YNtt2",
        "colab": {
          "base_uri": "https://localhost:8080/",
          "height": 285
        },
        "outputId": "3e63edf1-186f-4588-8eeb-e9efa6ec9cdd"
      },
      "outputs": [
        {
          "output_type": "execute_result",
          "data": {
            "text/plain": [
              "<AxesSubplot:ylabel='job'>"
            ]
          },
          "metadata": {},
          "execution_count": 1336
        },
        {
          "output_type": "display_data",
          "data": {
            "text/plain": [
              "<Figure size 432x288 with 1 Axes>"
            ],
            "image/png": "[encoded data removed]"
          },
          "metadata": {}
        }
      ],
      "source": [
        "(df.groupby(\"job\")[\"target\"].mean()*100).sort_values().plot(kind=\"barh\")"
      ]
    },
    {
      "cell_type": "markdown",
      "source": [
        "Interpretation\n",
        "\n",
        "According to the above graph:\n",
        "* % of student claim more insurance loan than other working class \n",
        "* It is an ordered and linear relationship"
      ],
      "metadata": {
        "id": "TRrK35Elma8N"
      }
    },
    {
      "cell_type": "code",
      "execution_count": 1337,
      "metadata": {
        "id": "1nfOYvS55-y6",
        "colab": {
          "base_uri": "https://localhost:8080/",
          "height": 285
        },
        "outputId": "88d53e27-2d7f-424c-8694-5f5b02bca0a0"
      },
      "outputs": [
        {
          "output_type": "execute_result",
          "data": {
            "text/plain": [
              "<AxesSubplot:ylabel='education_qual'>"
            ]
          },
          "metadata": {},
          "execution_count": 1337
        },
        {
          "output_type": "display_data",
          "data": {
            "text/plain": [
              "<Figure size 432x288 with 1 Axes>"
            ],
            "image/png": "[encoded data removed]"
          },
          "metadata": {}
        }
      ],
      "source": [
        "(df.groupby(\"education_qual\")[\"target\"].mean()*100).sort_values().plot(kind=\"barh\",color=\"green\")"
      ]
    },
    {
      "cell_type": "markdown",
      "source": [],
      "metadata": {
        "id": "hmciDNe9mZq-"
      }
    },
    {
      "cell_type": "code",
      "execution_count": 1338,
      "metadata": {
        "id": "dB-ztAeM_A-3",
        "colab": {
          "base_uri": "https://localhost:8080/",
          "height": 285
        },
        "outputId": "9525b122-a7da-4e65-d2e4-c4d5c291d618"
      },
      "outputs": [
        {
          "output_type": "execute_result",
          "data": {
            "text/plain": [
              "<AxesSubplot:ylabel='call_type'>"
            ]
          },
          "metadata": {},
          "execution_count": 1338
        },
        {
          "output_type": "display_data",
          "data": {
            "text/plain": [
              "<Figure size 432x288 with 1 Axes>"
            ],
            "image/png": "[encoded data removed]"
          },
          "metadata": {}
        }
      ],
      "source": [
        "(df.groupby(\"call_type\")[\"target\"].mean()*100).sort_values().plot(kind=\"barh\",color=\"orange\")"
      ]
    },
    {
      "cell_type": "markdown",
      "source": [],
      "metadata": {
        "id": "0hs2aTWwmYph"
      }
    },
    {
      "cell_type": "code",
      "execution_count": 1339,
      "metadata": {
        "id": "KXnHwzOOASAl",
        "colab": {
          "base_uri": "https://localhost:8080/",
          "height": 285
        },
        "outputId": "94feee6b-2e30-4ba4-f83b-2e3a0cbeb3a1"
      },
      "outputs": [
        {
          "output_type": "execute_result",
          "data": {
            "text/plain": [
              "<AxesSubplot:ylabel='prev_outcome'>"
            ]
          },
          "metadata": {},
          "execution_count": 1339
        },
        {
          "output_type": "display_data",
          "data": {
            "text/plain": [
              "<Figure size 432x288 with 1 Axes>"
            ],
            "image/png": "[encoded data removed]"
          },
          "metadata": {}
        }
      ],
      "source": [
        "(df.groupby(\"prev_outcome\")[\"target\"].mean()*100).sort_values().plot(kind=\"barh\",color=\"red\")"
      ]
    },
    {
      "cell_type": "code",
      "execution_count": 1340,
      "metadata": {
        "id": "p0rTOzYjAWL9",
        "colab": {
          "base_uri": "https://localhost:8080/",
          "height": 285
        },
        "outputId": "cd702ba1-4025-458d-cf62-cd3b7093471a"
      },
      "outputs": [
        {
          "output_type": "execute_result",
          "data": {
            "text/plain": [
              "<AxesSubplot:ylabel='marital'>"
            ]
          },
          "metadata": {},
          "execution_count": 1340
        },
        {
          "output_type": "display_data",
          "data": {
            "text/plain": [
              "<Figure size 432x288 with 1 Axes>"
            ],
            "image/png": "[encoded data removed]"
          },
          "metadata": {}
        }
      ],
      "source": [
        "(df.groupby(\"marital\")[\"target\"].mean()*100).sort_values().plot(kind=\"barh\",color=\"pink\")"
      ]
    },
    {
      "cell_type": "markdown",
      "source": [
        "Interpretation\n",
        "\n",
        "Based on the above graph:\n",
        "\n",
        "* % of single people buy more insurance than married\n",
        "* It is in linear and ordered fashion"
      ],
      "metadata": {
        "id": "tXB01P_zmWvR"
      }
    },
    {
      "cell_type": "code",
      "execution_count": 1341,
      "metadata": {
        "id": "cfGrHJ74B_H5",
        "colab": {
          "base_uri": "https://localhost:8080/",
          "height": 285
        },
        "outputId": "be0a434e-1da5-45c3-c73e-d1064d1ecc90"
      },
      "outputs": [
        {
          "output_type": "execute_result",
          "data": {
            "text/plain": [
              "<AxesSubplot:ylabel='mon'>"
            ]
          },
          "metadata": {},
          "execution_count": 1341
        },
        {
          "output_type": "display_data",
          "data": {
            "text/plain": [
              "<Figure size 432x288 with 1 Axes>"
            ],
            "image/png": "[encoded data removed]"
          },
          "metadata": {}
        }
      ],
      "source": [
        "(df.groupby(\"mon\")[\"target\"].mean()*100).sort_values().plot(kind=\"barh\",color=\"yellow\")"
      ]
    },
    {
      "cell_type": "markdown",
      "source": [
        "Interpretation\n",
        "\n",
        "Based on the above graph:\n",
        "\n",
        "*   % of people in mar buy insurance than in other months\n",
        "*   During mar month,the insurance agents can many more calls and pitch the claim \n",
        "\n",
        "\n"
      ],
      "metadata": {
        "id": "pn5kqR8ulvQz"
      }
    },
    {
      "cell_type": "markdown",
      "metadata": {
        "id": "lznpW2c5T8EV"
      },
      "source": [
        "**Continuous vs target** "
      ]
    },
    {
      "cell_type": "code",
      "execution_count": 1205,
      "metadata": {
        "id": "O1DlE3v6DF8m",
        "colab": {
          "base_uri": "https://localhost:8080/",
          "height": 296
        },
        "outputId": "19a139d7-1adb-46a3-c2ea-b14d5089f7a1"
      },
      "outputs": [
        {
          "output_type": "execute_result",
          "data": {
            "text/plain": [
              "<AxesSubplot:xlabel='y', ylabel='age'>"
            ]
          },
          "metadata": {},
          "execution_count": 1205
        },
        {
          "output_type": "display_data",
          "data": {
            "text/plain": [
              "<Figure size 432x288 with 1 Axes>"
            ],
            "image/png": "[encoded data removed]"
          },
          "metadata": {
            "needs_background": "light"
          }
        }
      ],
      "source": [
        "sns.boxplot(data=df, x=\"y\", y=\"age\")"
      ]
    },
    {
      "cell_type": "code",
      "execution_count": 1206,
      "metadata": {
        "id": "QKcHG-NvE3lT",
        "colab": {
          "base_uri": "https://localhost:8080/",
          "height": 296
        },
        "outputId": "d54db484-ba87-4890-c2db-a8b6595a2d4a"
      },
      "outputs": [
        {
          "output_type": "execute_result",
          "data": {
            "text/plain": [
              "<AxesSubplot:xlabel='y', ylabel='dur'>"
            ]
          },
          "metadata": {},
          "execution_count": 1206
        },
        {
          "output_type": "display_data",
          "data": {
            "text/plain": [
              "<Figure size 432x288 with 1 Axes>"
            ],
            "image/png": "[encoded data removed]"
          },
          "metadata": {
            "needs_background": "light"
          }
        }
      ],
      "source": [
        "sns.boxplot(data=df, x=\"y\", y=\"dur\")"
      ]
    },
    {
      "cell_type": "code",
      "execution_count": 1207,
      "metadata": {
        "id": "rB-ZMwxQGCT0",
        "colab": {
          "base_uri": "https://localhost:8080/",
          "height": 296
        },
        "outputId": "28b0e7f2-35d2-47b8-9f2d-2e6da81ea15c"
      },
      "outputs": [
        {
          "output_type": "execute_result",
          "data": {
            "text/plain": [
              "<AxesSubplot:xlabel='y', ylabel='num_calls'>"
            ]
          },
          "metadata": {},
          "execution_count": 1207
        },
        {
          "output_type": "display_data",
          "data": {
            "text/plain": [
              "<Figure size 432x288 with 1 Axes>"
            ],
            "image/png": "[encoded data removed]"
          },
          "metadata": {
            "needs_background": "light"
          }
        }
      ],
      "source": [
        "sns.boxplot(data=df, x=\"y\", y=\"num_calls\")"
      ]
    },
    {
      "cell_type": "code",
      "execution_count": 1208,
      "metadata": {
        "id": "V3Z5zNg_G-C4",
        "colab": {
          "base_uri": "https://localhost:8080/",
          "height": 296
        },
        "outputId": "ed44d812-2d0c-437f-cd48-4e63be21c37f"
      },
      "outputs": [
        {
          "output_type": "execute_result",
          "data": {
            "text/plain": [
              "<AxesSubplot:xlabel='y', ylabel='day'>"
            ]
          },
          "metadata": {},
          "execution_count": 1208
        },
        {
          "output_type": "display_data",
          "data": {
            "text/plain": [
              "<Figure size 432x288 with 1 Axes>"
            ],
            "image/png": "[encoded data removed]"
          },
          "metadata": {
            "needs_background": "light"
          }
        }
      ],
      "source": [
        "sns.boxplot(data=df, x=\"y\", y=\"day\")"
      ]
    },
    {
      "cell_type": "markdown",
      "metadata": {
        "id": "s2GEjTmFl8PU"
      },
      "source": [
        "**Data Encoding**"
      ]
    },
    {
      "cell_type": "code",
      "execution_count": 1209,
      "metadata": {
        "id": "3GAMTv45HoQ9"
      },
      "outputs": [],
      "source": [
        "df['job'] = df['job'].map({\"blue-collar\":0,\"entrepreneur\" :1, \"housemaid\":2, \"services\":3,\"technician\":4,\"self-employed\":5, \"admin.\":6, \"management\":7,\"unemployed\":8,\"retired\":9,\"student\":10})\n",
        "df[\"marital\"] = df[\"marital\"].map({\"married\":0,\"divorced\":1,\"single\":2})\n",
        "df[\"education_qual\"] = df[\"education_qual\"].map({\"primary\":0,\"secondary\":1,\"tertiary\":2})\n",
        "df[\"call_type\"] = df[\"call_type\"].map({\"unknown\":0,\"telephone\":1,\"cellular\":2})\n",
        "df[\"mon\"] = df[\"mon\"].map({\"may\":0,\"jul\":1,\"jan\":2,\"nov\":3,\"jun\":4,\"aug\":5,\"feb\":6,\"apr\":7,\"oct\":8,\"sep\":9,\"dec\":10,\"mar\":11})\n",
        "df['prev_outcome'] = df['prev_outcome'].map({'unknown':0, 'failure':1,'other':2, 'success':3})"
      ]
    },
    {
      "cell_type": "code",
      "execution_count": 1210,
      "metadata": {
        "id": "tnDOppSmoJ2n",
        "colab": {
          "base_uri": "https://localhost:8080/",
          "height": 206
        },
        "outputId": "eac38e8b-6fa2-441a-ca30-258b1683063f"
      },
      "outputs": [
        {
          "output_type": "execute_result",
          "data": {
            "text/plain": [
              "   age  job  marital  education_qual  call_type  day  mon  dur  num_calls  \\\n",
              "0   58    7        0               2          0    5    0  261          1   \n",
              "1   44    4        2               1          0    5    0  151          1   \n",
              "2   33    1        0               1          0    5    0   76          1   \n",
              "3   47    0        0               1          0    5    0   92          1   \n",
              "4   33    0        2               1          0    5    0  198          1   \n",
              "\n",
              "   prev_outcome   y  target  \n",
              "0             0  no       0  \n",
              "1             0  no       0  \n",
              "2             0  no       0  \n",
              "3             0  no       0  \n",
              "4             0  no       0  "
            ],
            "text/html": [
              "\n",
              "  <div id=\"df-00b50111-1778-42bd-90e7-135da245e989\">\n",
              "    <div class=\"colab-df-container\">\n",
              "      <div>\n",
              "<style scoped>\n",
              "    .dataframe tbody tr th:only-of-type {\n",
              "        vertical-align: middle;\n",
              "    }\n",
              "\n",
              "    .dataframe tbody tr th {\n",
              "        vertical-align: top;\n",
              "    }\n",
              "\n",
              "    .dataframe thead th {\n",
              "        text-align: right;\n",
              "    }\n",
              "</style>\n",
              "<table border=\"1\" class=\"dataframe\">\n",
              "  <thead>\n",
              "    <tr style=\"text-align: right;\">\n",
              "      <th></th>\n",
              "      <th>age</th>\n",
              "      <th>job</th>\n",
              "      <th>marital</th>\n",
              "      <th>education_qual</th>\n",
              "      <th>call_type</th>\n",
              "      <th>day</th>\n",
              "      <th>mon</th>\n",
              "      <th>dur</th>\n",
              "      <th>num_calls</th>\n",
              "      <th>prev_outcome</th>\n",
              "      <th>y</th>\n",
              "      <th>target</th>\n",
              "    </tr>\n",
              "  </thead>\n",
              "  <tbody>\n",
              "    <tr>\n",
              "      <th>0</th>\n",
              "      <td>58</td>\n",
              "      <td>7</td>\n",
              "      <td>0</td>\n",
              "      <td>2</td>\n",
              "      <td>0</td>\n",
              "      <td>5</td>\n",
              "      <td>0</td>\n",
              "      <td>261</td>\n",
              "      <td>1</td>\n",
              "      <td>0</td>\n",
              "      <td>no</td>\n",
              "      <td>0</td>\n",
              "    </tr>\n",
              "    <tr>\n",
              "      <th>1</th>\n",
              "      <td>44</td>\n",
              "      <td>4</td>\n",
              "      <td>2</td>\n",
              "      <td>1</td>\n",
              "      <td>0</td>\n",
              "      <td>5</td>\n",
              "      <td>0</td>\n",
              "      <td>151</td>\n",
              "      <td>1</td>\n",
              "      <td>0</td>\n",
              "      <td>no</td>\n",
              "      <td>0</td>\n",
              "    </tr>\n",
              "    <tr>\n",
              "      <th>2</th>\n",
              "      <td>33</td>\n",
              "      <td>1</td>\n",
              "      <td>0</td>\n",
              "      <td>1</td>\n",
              "      <td>0</td>\n",
              "      <td>5</td>\n",
              "      <td>0</td>\n",
              "      <td>76</td>\n",
              "      <td>1</td>\n",
              "      <td>0</td>\n",
              "      <td>no</td>\n",
              "      <td>0</td>\n",
              "    </tr>\n",
              "    <tr>\n",
              "      <th>3</th>\n",
              "      <td>47</td>\n",
              "      <td>0</td>\n",
              "      <td>0</td>\n",
              "      <td>1</td>\n",
              "      <td>0</td>\n",
              "      <td>5</td>\n",
              "      <td>0</td>\n",
              "      <td>92</td>\n",
              "      <td>1</td>\n",
              "      <td>0</td>\n",
              "      <td>no</td>\n",
              "      <td>0</td>\n",
              "    </tr>\n",
              "    <tr>\n",
              "      <th>4</th>\n",
              "      <td>33</td>\n",
              "      <td>0</td>\n",
              "      <td>2</td>\n",
              "      <td>1</td>\n",
              "      <td>0</td>\n",
              "      <td>5</td>\n",
              "      <td>0</td>\n",
              "      <td>198</td>\n",
              "      <td>1</td>\n",
              "      <td>0</td>\n",
              "      <td>no</td>\n",
              "      <td>0</td>\n",
              "    </tr>\n",
              "  </tbody>\n",
              "</table>\n",
              "</div>\n",
              "      <button class=\"colab-df-convert\" onclick=\"convertToInteractive('df-00b50111-1778-42bd-90e7-135da245e989')\"\n",
              "              title=\"Convert this dataframe to an interactive table.\"\n",
              "              style=\"display:none;\">\n",
              "        \n",
              "  <svg xmlns=\"http://www.w3.org/2000/svg\" height=\"24px\"viewBox=\"0 0 24 24\"\n",
              "       width=\"24px\">\n",
              "    <path d=\"M0 0h24v24H0V0z\" fill=\"none\"/>\n",
              "    <path d=\"M18.56 5.44l.94 2.06.94-2.06 2.06-.94-2.06-.94-.94-2.06-.94 2.06-2.06.94zm-11 1L8.5 8.5l.94-2.06 2.06-.94-2.06-.94L8.5 2.5l-.94 2.06-2.06.94zm10 10l.94 2.06.94-2.06 2.06-.94-2.06-.94-.94-2.06-.94 2.06-2.06.94z\"/><path d=\"M17.41 7.96l-1.37-1.37c-.4-.4-.92-.59-1.43-.59-.52 0-1.04.2-1.43.59L10.3 9.45l-7.72 7.72c-.78.78-.78 2.05 0 2.83L4 21.41c.39.39.9.59 1.41.59.51 0 1.02-.2 1.41-.59l7.78-7.78 2.81-2.81c.8-.78.8-2.07 0-2.86zM5.41 20L4 18.59l7.72-7.72 1.47 1.35L5.41 20z\"/>\n",
              "  </svg>\n",
              "      </button>\n",
              "      \n",
              "  <style>\n",
              "    .colab-df-container {\n",
              "      display:flex;\n",
              "      flex-wrap:wrap;\n",
              "      gap: 12px;\n",
              "    }\n",
              "\n",
              "    .colab-df-convert {\n",
              "      background-color: #E8F0FE;\n",
              "      border: none;\n",
              "      border-radius: 50%;\n",
              "      cursor: pointer;\n",
              "      display: none;\n",
              "      fill: #1967D2;\n",
              "      height: 32px;\n",
              "      padding: 0 0 0 0;\n",
              "      width: 32px;\n",
              "    }\n",
              "\n",
              "    .colab-df-convert:hover {\n",
              "      background-color: #E2EBFA;\n",
              "      box-shadow: 0px 1px 2px rgba(60, 64, 67, 0.3), 0px 1px 3px 1px rgba(60, 64, 67, 0.15);\n",
              "      fill: #174EA6;\n",
              "    }\n",
              "\n",
              "    [theme=dark] .colab-df-convert {\n",
              "      background-color: #3B4455;\n",
              "      fill: #D2E3FC;\n",
              "    }\n",
              "\n",
              "    [theme=dark] .colab-df-convert:hover {\n",
              "      background-color: #434B5C;\n",
              "      box-shadow: 0px 1px 3px 1px rgba(0, 0, 0, 0.15);\n",
              "      filter: drop-shadow(0px 1px 2px rgba(0, 0, 0, 0.3));\n",
              "      fill: #FFFFFF;\n",
              "    }\n",
              "  </style>\n",
              "\n",
              "      <script>\n",
              "        const buttonEl =\n",
              "          document.querySelector('#df-00b50111-1778-42bd-90e7-135da245e989 button.colab-df-convert');\n",
              "        buttonEl.style.display =\n",
              "          google.colab.kernel.accessAllowed ? 'block' : 'none';\n",
              "\n",
              "        async function convertToInteractive(key) {\n",
              "          const element = document.querySelector('#df-00b50111-1778-42bd-90e7-135da245e989');\n",
              "          const dataTable =\n",
              "            await google.colab.kernel.invokeFunction('convertToInteractive',\n",
              "                                                     [key], {});\n",
              "          if (!dataTable) return;\n",
              "\n",
              "          const docLinkHtml = 'Like what you see? Visit the ' +\n",
              "            '<a target=\"_blank\" href=https://colab.research.google.com/notebooks/data_table.ipynb>data table notebook</a>'\n",
              "            + ' to learn more about interactive tables.';\n",
              "          element.innerHTML = '';\n",
              "          dataTable['output_type'] = 'display_data';\n",
              "          await google.colab.output.renderOutput(dataTable, element);\n",
              "          const docLink = document.createElement('div');\n",
              "          docLink.innerHTML = docLinkHtml;\n",
              "          element.appendChild(docLink);\n",
              "        }\n",
              "      </script>\n",
              "    </div>\n",
              "  </div>\n",
              "  "
            ]
          },
          "metadata": {},
          "execution_count": 1210
        }
      ],
      "source": [
        "df.head()"
      ]
    },
    {
      "cell_type": "markdown",
      "metadata": {
        "id": "JH8drDhEtNi0"
      },
      "source": [
        "**Splitting data into input data and output data**"
      ]
    },
    {
      "cell_type": "code",
      "source": [
        "col = [*df.columns]\n",
        "col[:-2]"
      ],
      "metadata": {
        "colab": {
          "base_uri": "https://localhost:8080/"
        },
        "id": "-yssWSpj16d3",
        "outputId": "8adf7bd4-8b6d-4ceb-d3fb-7279a5975d9d"
      },
      "execution_count": 1211,
      "outputs": [
        {
          "output_type": "execute_result",
          "data": {
            "text/plain": [
              "['age',\n",
              " 'job',\n",
              " 'marital',\n",
              " 'education_qual',\n",
              " 'call_type',\n",
              " 'day',\n",
              " 'mon',\n",
              " 'dur',\n",
              " 'num_calls',\n",
              " 'prev_outcome']"
            ]
          },
          "metadata": {},
          "execution_count": 1211
        }
      ]
    },
    {
      "cell_type": "code",
      "source": [
        "col[0]"
      ],
      "metadata": {
        "colab": {
          "base_uri": "https://localhost:8080/",
          "height": 35
        },
        "id": "nXHWUrjj9_99",
        "outputId": "47e51041-7a69-49dc-b231-1747ede62c86"
      },
      "execution_count": 1212,
      "outputs": [
        {
          "output_type": "execute_result",
          "data": {
            "text/plain": [
              "'age'"
            ],
            "application/vnd.google.colaboratory.intrinsic+json": {
              "type": "string"
            }
          },
          "metadata": {},
          "execution_count": 1212
        }
      ]
    },
    {
      "cell_type": "code",
      "source": [
        "x = df.loc[:,col[:-2]].values\n",
        "y = df.loc[:,col[-1]].values"
      ],
      "metadata": {
        "id": "sSN9n9fw-DIk"
      },
      "execution_count": 1213,
      "outputs": []
    },
    {
      "cell_type": "code",
      "execution_count": 1214,
      "metadata": {
        "id": "V4Rly4ud0Fx4"
      },
      "outputs": [],
      "source": [
        "from sklearn.model_selection import train_test_split\n",
        "\n",
        "x_train ,x_test,y_train,y_test = train_test_split(x,y,test_size = 0.25)"
      ]
    },
    {
      "cell_type": "code",
      "execution_count": 1215,
      "metadata": {
        "colab": {
          "base_uri": "https://localhost:8080/"
        },
        "id": "TRpFKEg_2EUc",
        "outputId": "76d8606b-8871-4099-ab67-211e763a2a8d"
      },
      "outputs": [
        {
          "output_type": "stream",
          "name": "stdout",
          "text": [
            "(33903, 10) (11302, 10) (33903,) (11302,)\n"
          ]
        }
      ],
      "source": [
        "print(x_train.shape,x_test.shape,y_train.shape,y_test.shape)"
      ]
    },
    {
      "cell_type": "markdown",
      "source": [
        "**Balancing the Data using Smoteenn**"
      ],
      "metadata": {
        "id": "8LcXlxgE1vuf"
      }
    },
    {
      "cell_type": "code",
      "source": [
        "from sklearn.preprocessing import StandardScaler\n",
        "scaler = StandardScaler() \n",
        "scaler.fit(x_train,y_train) \n",
        "X_train_scaled = scaler.transform(x_train) \n",
        "X_test_scaled = scaler.transform(x_test)"
      ],
      "metadata": {
        "id": "P9jVNpwWDDqP"
      },
      "execution_count": 1216,
      "outputs": []
    },
    {
      "cell_type": "code",
      "source": [
        "df.shape"
      ],
      "metadata": {
        "colab": {
          "base_uri": "https://localhost:8080/"
        },
        "id": "LKSem8JI1aUA",
        "outputId": "3e378861-d4b2-41ef-e3b9-30f2bd6c96eb"
      },
      "execution_count": 1217,
      "outputs": [
        {
          "output_type": "execute_result",
          "data": {
            "text/plain": [
              "(45205, 12)"
            ]
          },
          "metadata": {},
          "execution_count": 1217
        }
      ]
    },
    {
      "cell_type": "code",
      "source": [
        "len(x_train),len(y_train)"
      ],
      "metadata": {
        "colab": {
          "base_uri": "https://localhost:8080/"
        },
        "id": "RiuZcyaP2j7Z",
        "outputId": "f0778a65-d4f9-4ef4-ebb1-07fee102de20"
      },
      "execution_count": 1218,
      "outputs": [
        {
          "output_type": "execute_result",
          "data": {
            "text/plain": [
              "(33903, 33903)"
            ]
          },
          "metadata": {},
          "execution_count": 1218
        }
      ]
    },
    {
      "cell_type": "code",
      "source": [
        "len(x_test),len(y_test)"
      ],
      "metadata": {
        "colab": {
          "base_uri": "https://localhost:8080/"
        },
        "id": "5LX4X__V-oA2",
        "outputId": "6d670e42-0f84-426d-d468-cf0a2333f991"
      },
      "execution_count": 1219,
      "outputs": [
        {
          "output_type": "execute_result",
          "data": {
            "text/plain": [
              "(11302, 11302)"
            ]
          },
          "metadata": {},
          "execution_count": 1219
        }
      ]
    },
    {
      "cell_type": "code",
      "source": [
        "from imblearn.combine import SMOTEENN\n",
        "S = SMOTEENN(sampling_strategy=\"all\")\n",
        "\n",
        "x_s,y_s = S.fit_resample(x_train,y_train)"
      ],
      "metadata": {
        "id": "dhrSVKnq2ppg"
      },
      "execution_count": 1220,
      "outputs": []
    },
    {
      "cell_type": "code",
      "source": [
        "len(x_s),len(y_s)"
      ],
      "metadata": {
        "colab": {
          "base_uri": "https://localhost:8080/"
        },
        "id": "px5yNIaO_jtf",
        "outputId": "1508549f-d88d-46bc-b974-c669c383c76c"
      },
      "execution_count": 1221,
      "outputs": [
        {
          "output_type": "execute_result",
          "data": {
            "text/plain": [
              "(50109, 50109)"
            ]
          },
          "metadata": {},
          "execution_count": 1221
        }
      ]
    },
    {
      "cell_type": "code",
      "source": [
        "df.isnull().sum()"
      ],
      "metadata": {
        "colab": {
          "base_uri": "https://localhost:8080/"
        },
        "id": "slAVRxIj_uBb",
        "outputId": "747ac3ac-203a-4a71-e9c4-6180e2c3d6b1"
      },
      "execution_count": 1222,
      "outputs": [
        {
          "output_type": "execute_result",
          "data": {
            "text/plain": [
              "age               0\n",
              "job               0\n",
              "marital           0\n",
              "education_qual    0\n",
              "call_type         0\n",
              "day               0\n",
              "mon               0\n",
              "dur               0\n",
              "num_calls         0\n",
              "prev_outcome      0\n",
              "y                 0\n",
              "target            0\n",
              "dtype: int64"
            ]
          },
          "metadata": {},
          "execution_count": 1222
        }
      ]
    },
    {
      "cell_type": "code",
      "source": [
        "df_Bal = pd.DataFrame(x_s, columns = df.columns[:-2])"
      ],
      "metadata": {
        "id": "RZPlZ536BmG2"
      },
      "execution_count": 1223,
      "outputs": []
    },
    {
      "cell_type": "code",
      "source": [
        "df_Bal['y'] = y_s"
      ],
      "metadata": {
        "id": "2omX5zjWB0dL"
      },
      "execution_count": 1224,
      "outputs": []
    },
    {
      "cell_type": "code",
      "source": [
        "len(df_Bal[df_Bal['y']==1])/len(df_Bal)"
      ],
      "metadata": {
        "colab": {
          "base_uri": "https://localhost:8080/"
        },
        "id": "FWRjnbNdEODG",
        "outputId": "b0c95170-0b02-4dd9-e82d-76c6d91b722c"
      },
      "execution_count": 1225,
      "outputs": [
        {
          "output_type": "execute_result",
          "data": {
            "text/plain": [
              "0.5621744596779021"
            ]
          },
          "metadata": {},
          "execution_count": 1225
        }
      ]
    },
    {
      "cell_type": "markdown",
      "metadata": {
        "id": "kh3bcnfN9inu"
      },
      "source": [
        "**Building Machine Learning Model**"
      ]
    },
    {
      "cell_type": "code",
      "execution_count": 1226,
      "metadata": {
        "id": "aoffEMjO-SGE"
      },
      "outputs": [],
      "source": [
        "from sklearn.linear_model import LogisticRegression\n",
        "from sklearn.neighbors import KNeighborsRegressor\n",
        "from sklearn.tree import DecisionTreeRegressor\n",
        "from sklearn.ensemble import RandomForestRegressor\n",
        "from sklearn.ensemble import GradientBoostingRegressor\n",
        "import xgboost as xgb\n"
      ]
    },
    {
      "cell_type": "markdown",
      "source": [
        "**Logistic Regression**"
      ],
      "metadata": {
        "id": "yo6s1raoeUM3"
      }
    },
    {
      "cell_type": "code",
      "execution_count": 1227,
      "metadata": {
        "colab": {
          "base_uri": "https://localhost:8080/"
        },
        "id": "lABPjISyHi1j",
        "outputId": "78546c8f-c0d5-4797-9745-056208f116d6"
      },
      "outputs": [
        {
          "output_type": "execute_result",
          "data": {
            "text/plain": [
              "0.7295168996637763"
            ]
          },
          "metadata": {},
          "execution_count": 1227
        }
      ],
      "source": [
        "from sklearn.linear_model import LogisticRegression\n",
        "Log_reg = LogisticRegression()\n",
        "Log_reg.fit(x_s,y_s)\n",
        "Log_reg.score(x_test,y_test)\n"
      ]
    },
    {
      "cell_type": "code",
      "execution_count": 1228,
      "metadata": {
        "id": "MXPwCj0AIQUL"
      },
      "outputs": [],
      "source": [
        "from sklearn.metrics import roc_auc_score\n"
      ]
    },
    {
      "cell_type": "code",
      "source": [
        "Log_reg.score(x_test,y_test)\n",
        "S = roc_auc_score(y_test,Log_reg.predict_proba(x_test)[:, 1])"
      ],
      "metadata": {
        "id": "h9eNnI6YE85K"
      },
      "execution_count": 1229,
      "outputs": []
    },
    {
      "cell_type": "code",
      "source": [
        "S"
      ],
      "metadata": {
        "colab": {
          "base_uri": "https://localhost:8080/"
        },
        "id": "TA_twMVsFBK5",
        "outputId": "7f732f34-f763-43a2-b7c0-dd498b5a5933"
      },
      "execution_count": 1230,
      "outputs": [
        {
          "output_type": "execute_result",
          "data": {
            "text/plain": [
              "0.8682519201228879"
            ]
          },
          "metadata": {},
          "execution_count": 1230
        }
      ]
    },
    {
      "cell_type": "markdown",
      "metadata": {
        "id": "i73gBveYQ3cP"
      },
      "source": [
        "**K Nearest Neighbour Regression**"
      ]
    },
    {
      "cell_type": "code",
      "execution_count": 1231,
      "metadata": {
        "id": "rguVqIprQqOp",
        "colab": {
          "base_uri": "https://localhost:8080/"
        },
        "outputId": "23e485c4-a71c-4d90-ccad-ff98414627a3"
      },
      "outputs": [
        {
          "output_type": "execute_result",
          "data": {
            "text/plain": [
              "0.7388072907450008"
            ]
          },
          "metadata": {},
          "execution_count": 1231
        }
      ],
      "source": [
        "from sklearn.neighbors import KNeighborsClassifier\n",
        "KNN = KNeighborsClassifier()\n",
        "KNN.fit(x_s,y_s)\n",
        "KNN.score(x_test,y_test)"
      ]
    },
    {
      "cell_type": "code",
      "source": [
        "h = roc_auc_score(y_test, KNN.predict_proba(x_test)[:, 1])\n",
        "h"
      ],
      "metadata": {
        "colab": {
          "base_uri": "https://localhost:8080/"
        },
        "id": "QG89iBFfRczF",
        "outputId": "9a5600bb-2602-4961-c85a-6ec610790558"
      },
      "execution_count": 1232,
      "outputs": [
        {
          "output_type": "execute_result",
          "data": {
            "text/plain": [
              "0.8064914362519201"
            ]
          },
          "metadata": {},
          "execution_count": 1232
        }
      ]
    },
    {
      "cell_type": "code",
      "source": [
        "from sklearn.model_selection import cross_val_score\n",
        "knn_values=np.arange(1, 50)\n",
        "cross_val_knn=[]\n",
        "for k in knn_values:\n",
        "  knn=KNeighborsClassifier(n_neighbors=k)\n",
        "  knn.fit(x_s,y_s)\n",
        "  cross_val = cross_val_score(knn, x_test, y_test,cv = 15).mean()\n",
        "  print(\"K value : \", k, \"cross_val_score : \", cross_val)\n",
        "  cross_val_knn.append(cross_val)\n",
        "print(\"The best K-Value is {} and Cross_val_score is: {}\".format(np.argmax(cross_val_knn) + 10, max(cross_val_knn)))\n",
        "     "
      ],
      "metadata": {
        "colab": {
          "base_uri": "https://localhost:8080/"
        },
        "id": "2W9jbe9rRuqJ",
        "outputId": "465e49b6-4df8-4c12-df2c-e45b6ded3728"
      },
      "execution_count": 1233,
      "outputs": [
        {
          "output_type": "stream",
          "name": "stdout",
          "text": [
            "K value :  1 cross_val_score :  0.8623231800179183\n",
            "K value :  2 cross_val_score :  0.8859491594482664\n",
            "K value :  3 cross_val_score :  0.8832945259926988\n",
            "K value :  4 cross_val_score :  0.8874549547169411\n",
            "K value :  5 cross_val_score :  0.8832062260829947\n",
            "K value :  6 cross_val_score :  0.8852420556500785\n",
            "K value :  7 cross_val_score :  0.8832057564026239\n",
            "K value :  8 cross_val_score :  0.8835609521830156\n",
            "K value :  9 cross_val_score :  0.8838252648116639\n",
            "K value :  10 cross_val_score :  0.8854181857891157\n",
            "K value :  11 cross_val_score :  0.8848862727692236\n",
            "K value :  12 cross_val_score :  0.8858603898581916\n",
            "K value :  13 cross_val_score :  0.88577044606719\n",
            "K value :  14 cross_val_score :  0.8866561458263614\n",
            "K value :  15 cross_val_score :  0.886655558725898\n",
            "K value :  16 cross_val_score :  0.886390658996786\n",
            "K value :  17 cross_val_score :  0.8848868598696871\n",
            "K value :  18 cross_val_score :  0.8855068379590977\n",
            "K value :  19 cross_val_score :  0.886568785277399\n",
            "K value :  20 cross_val_score :  0.8870997589365496\n",
            "K value :  21 cross_val_score :  0.8881611191543873\n",
            "K value :  22 cross_val_score :  0.8886919753934451\n",
            "K value :  23 cross_val_score :  0.8886923276537233\n",
            "K value :  24 cross_val_score :  0.8893113663823923\n",
            "K value :  25 cross_val_score :  0.8891345317227992\n",
            "K value :  26 cross_val_score :  0.8895767357918751\n",
            "K value :  27 cross_val_score :  0.8893993140318184\n",
            "K value :  28 cross_val_score :  0.8888685752128531\n",
            "K value :  29 cross_val_score :  0.8891338272022431\n",
            "K value :  30 cross_val_score :  0.8886027361229997\n",
            "K value :  31 cross_val_score :  0.888956522862279\n",
            "K value :  32 cross_val_score :  0.8892227142124105\n",
            "K value :  33 cross_val_score :  0.8886916231331673\n",
            "K value :  34 cross_val_score :  0.8895765009516896\n",
            "K value :  35 cross_val_score :  0.8893108967020217\n",
            "K value :  36 cross_val_score :  0.8891342968826137\n",
            "K value :  37 cross_val_score :  0.8879836973943307\n",
            "K value :  38 cross_val_score :  0.8881610017342947\n",
            "K value :  39 cross_val_score :  0.8883378363938879\n",
            "K value :  40 cross_val_score :  0.8886030883832777\n",
            "K value :  41 cross_val_score :  0.8886916231331672\n",
            "K value :  42 cross_val_score :  0.8870988195758082\n",
            "K value :  43 cross_val_score :  0.8890456447126318\n",
            "K value :  44 cross_val_score :  0.8878958671649975\n",
            "K value :  45 cross_val_score :  0.8883378363938877\n",
            "K value :  46 cross_val_score :  0.888869044893224\n",
            "K value :  47 cross_val_score :  0.8887795707825928\n",
            "K value :  48 cross_val_score :  0.8885153755740375\n",
            "K value :  49 cross_val_score :  0.8885142013731104\n",
            "The best K-Value is 35 and Cross_val_score is: 0.8895767357918751\n"
          ]
        }
      ]
    },
    {
      "cell_type": "markdown",
      "metadata": {
        "id": "UsndAIJN5BwR"
      },
      "source": [
        "**Decision Tree** "
      ]
    },
    {
      "cell_type": "code",
      "execution_count": 1234,
      "metadata": {
        "id": "kQurywLa5A1M",
        "colab": {
          "base_uri": "https://localhost:8080/"
        },
        "outputId": "702d61f9-4b26-4fd7-bdf9-e2786a0d7a33"
      },
      "outputs": [
        {
          "output_type": "execute_result",
          "data": {
            "text/plain": [
              "0.8201203326844806"
            ]
          },
          "metadata": {},
          "execution_count": 1234
        }
      ],
      "source": [
        "from sklearn.tree import DecisionTreeClassifier\n",
        "DTC = DecisionTreeClassifier()\n",
        "DTC.fit(x_s,y_s)\n",
        "DTC.score(x_test,y_test)"
      ]
    },
    {
      "cell_type": "code",
      "execution_count": 1235,
      "metadata": {
        "id": "2Js7SZ5o577a",
        "colab": {
          "base_uri": "https://localhost:8080/"
        },
        "outputId": "f5709744-f9ac-4628-d2a7-e522643a601d"
      },
      "outputs": [
        {
          "output_type": "execute_result",
          "data": {
            "text/plain": [
              "0.7958044546850999"
            ]
          },
          "metadata": {},
          "execution_count": 1235
        }
      ],
      "source": [
        "a = roc_auc_score(y_test, DTC.predict_proba(x_test)[:,1])\n",
        "a\n",
        "    "
      ]
    },
    {
      "cell_type": "markdown",
      "metadata": {
        "id": "w3ErlX-t-X29"
      },
      "source": [
        "**Random Forest Regression**"
      ]
    },
    {
      "cell_type": "markdown",
      "metadata": {
        "id": "MFVy5SEt-erM"
      },
      "source": []
    },
    {
      "cell_type": "code",
      "execution_count": 1236,
      "metadata": {
        "id": "yhoeCpne-W-5",
        "colab": {
          "base_uri": "https://localhost:8080/"
        },
        "outputId": "42ba9402-949e-43e7-dc71-019233a2cd75"
      },
      "outputs": [
        {
          "output_type": "execute_result",
          "data": {
            "text/plain": [
              "0.7149177136789948"
            ]
          },
          "metadata": {},
          "execution_count": 1236
        }
      ],
      "source": [
        "from sklearn.ensemble import RandomForestClassifier\n",
        "RFC = RandomForestClassifier(n_estimators= 100, max_depth = 5, max_features='sqrt') \n",
        "RFC.fit(x_s,y_s)\n",
        "RFC.score(x_test,y_test)"
      ]
    },
    {
      "cell_type": "code",
      "execution_count": 1237,
      "metadata": {
        "id": "wCbrC8WI-0nR",
        "colab": {
          "base_uri": "https://localhost:8080/"
        },
        "outputId": "eb3c72a1-57b7-45d0-db3e-fc1c5d919a47"
      },
      "outputs": [
        {
          "output_type": "execute_result",
          "data": {
            "text/plain": [
              "0.8885455837173578"
            ]
          },
          "metadata": {},
          "execution_count": 1237
        }
      ],
      "source": [
        "h = roc_auc_score(y_test,RFC.predict_proba(x_test)[:, 1])\n",
        "h\n",
        "    "
      ]
    },
    {
      "cell_type": "markdown",
      "metadata": {
        "id": "E7o0jp1kDi6a"
      },
      "source": [
        "**Extreme Gradient Boosting**"
      ]
    },
    {
      "cell_type": "code",
      "execution_count": 1238,
      "metadata": {
        "id": "7CS_0X5EBNUS",
        "colab": {
          "base_uri": "https://localhost:8080/"
        },
        "outputId": "cfb554fe-4863-4da7-d098-979cbcd17278"
      },
      "outputs": [
        {
          "output_type": "execute_result",
          "data": {
            "text/plain": [
              "0.7915413201203327"
            ]
          },
          "metadata": {},
          "execution_count": 1238
        }
      ],
      "source": [
        "from sklearn.ensemble import GradientBoostingClassifier\n",
        "XGB = GradientBoostingClassifier(learning_rate=0.15,n_estimators=100)\n",
        "XGB.fit(x_s,y_s)\n",
        "XGB.score(x_test,y_test)\n",
        "     "
      ]
    },
    {
      "cell_type": "code",
      "execution_count": 1239,
      "metadata": {
        "id": "9W3r89mTEUuw",
        "colab": {
          "base_uri": "https://localhost:8080/"
        },
        "outputId": "c262cf14-e4f6-4c78-a2b1-378faa621ddd"
      },
      "outputs": [
        {
          "output_type": "execute_result",
          "data": {
            "text/plain": [
              "0.9079268049155146"
            ]
          },
          "metadata": {},
          "execution_count": 1239
        }
      ],
      "source": [
        "\n",
        "u = roc_auc_score(y_test, XGB.predict_proba(x_test)[:,1])\n",
        "u"
      ]
    },
    {
      "cell_type": "code",
      "execution_count": 1240,
      "metadata": {
        "id": "EvoMiG-eEexh",
        "colab": {
          "base_uri": "https://localhost:8080/"
        },
        "outputId": "3aeb2475-01c9-4705-a83d-01862665b330"
      },
      "outputs": [
        {
          "output_type": "stream",
          "name": "stdout",
          "text": [
            "learning_rate: 0.01 Train_Score: 0.6979323363714126 Cross_Val_score: 0.8928514197632292\n",
            "learning_rate: 0.02 Train_Score: 0.718019054360971 Cross_Val_score: 0.8978936331698005\n",
            "learning_rate: 0.03 Train_Score: 0.7377813172875557 Cross_Val_score: 0.901078926159793\n",
            "learning_rate: 0.04 Train_Score: 0.7523817951213757 Cross_Val_score: 0.9018747603733873\n",
            "learning_rate: 0.05 Train_Score: 0.7604341798660885 Cross_Val_score: 0.9039984194424232\n",
            "learning_rate: 0.06 Train_Score: 0.7662743709996166 Cross_Val_score: 0.9054145051368121\n",
            "learning_rate: 0.07 Train_Score: 0.7714951479220128 Cross_Val_score: 0.9062104958412558\n",
            "learning_rate: 0.08 Train_Score: 0.7738253251924608 Cross_Val_score: 0.9054147398730858\n",
            "learning_rate: 0.09 Train_Score: 0.7803439223667522 Cross_Val_score: 0.9062987566802032\n",
            "learning_rate: 0.1 Train_Score: 0.7813467834704894 Cross_Val_score: 0.9074493556489284\n",
            "learning_rate: 0.11 Train_Score: 0.7845323422705955 Cross_Val_score: 0.9070066430365484\n",
            "learning_rate: 0.12 Train_Score: 0.7901365660855971 Cross_Val_score: 0.9058566700312201\n",
            "learning_rate: 0.13 Train_Score: 0.7929091820782822 Cross_Val_score: 0.9069179909704781\n",
            "learning_rate: 0.14 Train_Score: 0.795563814411704 Cross_Val_score: 0.9067413128017339\n",
            "learning_rate: 0.15 Train_Score: 0.7973040733858361 Cross_Val_score: 0.9051485489386009\n",
            "learning_rate: 0.2 Train_Score: 0.803881662389759 Cross_Val_score: 0.9046178884689716\n",
            "learning_rate: 0.5 Train_Score: 0.827979824794266 Cross_Val_score: 0.9035554720937693\n",
            "learning_rate: 0.7 Train_Score: 0.8334660649500044 Cross_Val_score: 0.899307840973999\n",
            "learning_rate: 1 Train_Score: 0.839660207061322 Cross_Val_score: 0.8987781976948896\n"
          ]
        }
      ],
      "source": [
        "for i in [0.01,0.02,0.03,0.04,0.05,0.06,0.07,0.08,0.09,0.1,0.11,0.12,0.13,0.14,0.15,0.2,0.5,0.7,1]:\n",
        "  model = GradientBoostingClassifier(learning_rate=i,n_estimators=100, verbose = 0)\n",
        "  model.fit(x_s,y_s)\n",
        "  model.score(x_test,y_test)\n",
        "  print(\"learning_rate:\", i , \"Train_Score:\",model.score(x_train,y_train), \"Cross_Val_score:\",np.mean(cross_val_score(model, x_test,y_test,cv=10)))"
      ]
    },
    {
      "cell_type": "code",
      "source": [
        "print(\"Learning rate : \",  \" Train score : \" , model.score(x_train_scaled, y_train), \" Cross-Val score : \", np.mean(cross_val_score(model, x_train_scaled, y_train, cv=10)))\n"
      ],
      "metadata": {
        "colab": {
          "base_uri": "https://localhost:8080/"
        },
        "id": "dL0y_RsLUDh7",
        "outputId": "17c35c2d-e5ea-4dda-cc8e-8b5d5f84d5be"
      },
      "execution_count": 1241,
      "outputs": [
        {
          "output_type": "stream",
          "name": "stdout",
          "text": [
            "Learning rate :   Train score :  0.8806595286552813  Cross-Val score :  0.8764415609947903\n"
          ]
        }
      ]
    },
    {
      "cell_type": "markdown",
      "metadata": {
        "id": "V0xinxfwNeda"
      },
      "source": [
        "**AUROC_Score Model**\n",
        "\n",
        "---\n",
        "\n",
        "\n",
        "\n",
        "---\n",
        "\n"
      ]
    },
    {
      "cell_type": "code",
      "source": [
        "for i in [Log_reg,KNN,DTC,RFC,XGB]:\n",
        "  auroc_score = roc_auc_score(y_test, i.predict_proba(x_test)[:, 1])*100\n",
        "  print(\"AUROC_SCORE model is :\",(i, round(auroc_score,2)))"
      ],
      "metadata": {
        "colab": {
          "base_uri": "https://localhost:8080/"
        },
        "id": "49pcVR-KUXC2",
        "outputId": "8f7d5838-7704-43b2-8162-d23d5c76d4b9"
      },
      "execution_count": 1242,
      "outputs": [
        {
          "output_type": "stream",
          "name": "stdout",
          "text": [
            "AUROC_SCORE model is : (LogisticRegression(), 86.83)\n",
            "AUROC_SCORE model is : (KNeighborsClassifier(), 80.65)\n",
            "AUROC_SCORE model is : (DecisionTreeClassifier(), 79.58)\n",
            "AUROC_SCORE model is : (RandomForestClassifier(max_depth=5), 88.85)\n",
            "AUROC_SCORE model is : (GradientBoostingClassifier(learning_rate=0.15), 90.79)\n"
          ]
        }
      ]
    }
  ],
  "metadata": {
    "colab": {
      "provenance": [],
      "authorship_tag": "ABX9TyM/WWy9Txww3wc3LDZDrULC",
      "include_colab_link": true
    },
    "kernelspec": {
      "display_name": "Python 3",
      "name": "python3"
    },
    "language_info": {
      "name": "python"
    }
  },
  "nbformat": 4,
  "nbformat_minor": 0
}